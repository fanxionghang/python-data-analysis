{
 "cells": [
  {
   "cell_type": "code",
   "execution_count": 1,
   "metadata": {
    "collapsed": true
   },
   "outputs": [],
   "source": [
    "from pandas import read_csv"
   ]
  },
  {
   "cell_type": "code",
   "execution_count": 10,
   "metadata": {},
   "outputs": [
    {
     "data": {
      "text/html": [
       "<div>\n",
       "<style>\n",
       "    .dataframe thead tr:only-child th {\n",
       "        text-align: right;\n",
       "    }\n",
       "\n",
       "    .dataframe thead th {\n",
       "        text-align: left;\n",
       "    }\n",
       "\n",
       "    .dataframe tbody tr th {\n",
       "        vertical-align: top;\n",
       "    }\n",
       "</style>\n",
       "<table border=\"1\" class=\"dataframe\">\n",
       "  <thead>\n",
       "    <tr style=\"text-align: right;\">\n",
       "      <th></th>\n",
       "      <th>Date</th>\n",
       "      <th>Open</th>\n",
       "      <th>High</th>\n",
       "      <th>Low</th>\n",
       "      <th>Close</th>\n",
       "      <th>Volume</th>\n",
       "      <th>Adj Close</th>\n",
       "    </tr>\n",
       "  </thead>\n",
       "  <tbody>\n",
       "    <tr>\n",
       "      <th>0</th>\n",
       "      <td>2012-02-15</td>\n",
       "      <td>5899.9</td>\n",
       "      <td>5923.8</td>\n",
       "      <td>5880.6</td>\n",
       "      <td>5892.2</td>\n",
       "      <td>801550000</td>\n",
       "      <td>5892.2</td>\n",
       "    </tr>\n",
       "    <tr>\n",
       "      <th>1</th>\n",
       "      <td>2012-02-14</td>\n",
       "      <td>5905.7</td>\n",
       "      <td>5920.6</td>\n",
       "      <td>5877.2</td>\n",
       "      <td>5899.9</td>\n",
       "      <td>832567200</td>\n",
       "      <td>5899.9</td>\n",
       "    </tr>\n",
       "    <tr>\n",
       "      <th>2</th>\n",
       "      <td>2012-02-13</td>\n",
       "      <td>5852.4</td>\n",
       "      <td>5920.1</td>\n",
       "      <td>5852.4</td>\n",
       "      <td>5905.7</td>\n",
       "      <td>643543000</td>\n",
       "      <td>5905.7</td>\n",
       "    </tr>\n",
       "    <tr>\n",
       "      <th>3</th>\n",
       "      <td>2012-02-10</td>\n",
       "      <td>5895.5</td>\n",
       "      <td>5895.5</td>\n",
       "      <td>5839.9</td>\n",
       "      <td>5852.4</td>\n",
       "      <td>948790200</td>\n",
       "      <td>5852.4</td>\n",
       "    </tr>\n",
       "  </tbody>\n",
       "</table>\n",
       "</div>"
      ],
      "text/plain": [
       "         Date    Open    High     Low   Close     Volume  Adj Close\n",
       "0  2012-02-15  5899.9  5923.8  5880.6  5892.2  801550000     5892.2\n",
       "1  2012-02-14  5905.7  5920.6  5877.2  5899.9  832567200     5899.9\n",
       "2  2012-02-13  5852.4  5920.1  5852.4  5905.7  643543000     5905.7\n",
       "3  2012-02-10  5895.5  5895.5  5839.9  5852.4  948790200     5852.4"
      ]
     },
     "execution_count": 10,
     "metadata": {},
     "output_type": "execute_result"
    }
   ],
   "source": [
    "csv_data=read_csv('FTSE_1984_2012.csv')\n",
    "csv_data[:4]"
   ]
  },
  {
   "cell_type": "code",
   "execution_count": 20,
   "metadata": {},
   "outputs": [
    {
     "data": {
      "text/plain": [
       "array([['2012-02-15', 5899.9, 5923.8, ..., 5892.2, 801550000, 5892.2],\n",
       "       ['2012-02-14', 5905.7, 5920.6, ..., 5899.9, 832567200, 5899.9],\n",
       "       ['2012-02-13', 5852.4, 5920.1, ..., 5905.7, 643543000, 5905.7],\n",
       "       ..., \n",
       "       ['1984-04-04', 1095.4, 1095.4, ..., 1095.4, 0, 1095.4],\n",
       "       ['1984-04-03', 1095.4, 1095.4, ..., 1095.4, 0, 1095.4],\n",
       "       ['1984-04-02', 1108.1, 1108.1, ..., 1108.1, 0, 1108.1]], dtype=object)"
      ]
     },
     "execution_count": 20,
     "metadata": {},
     "output_type": "execute_result"
    }
   ],
   "source": [
    "csv_data.values"
   ]
  },
  {
   "cell_type": "code",
   "execution_count": null,
   "metadata": {
    "collapsed": true
   },
   "outputs": [],
   "source": []
  }
 ],
 "metadata": {
  "kernelspec": {
   "display_name": "Python 3",
   "language": "python",
   "name": "python3"
  },
  "language_info": {
   "codemirror_mode": {
    "name": "ipython",
    "version": 3
   },
   "file_extension": ".py",
   "mimetype": "text/x-python",
   "name": "python",
   "nbconvert_exporter": "python",
   "pygments_lexer": "ipython3",
   "version": "3.5.4"
  }
 },
 "nbformat": 4,
 "nbformat_minor": 2
}
