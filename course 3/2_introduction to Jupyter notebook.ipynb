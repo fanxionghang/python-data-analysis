{
 "cells": [
  {
   "cell_type": "markdown",
   "metadata": {},
   "source": [
    "<hr>\n",
    "# Jupynotebook使用简介"
   ]
  },
  {
   "cell_type": "markdown",
   "metadata": {},
   "source": [
    "<img src=\"https://static1.squarespace.com/static/549dcda5e4b0a47d0ae1db1e/t/599cd77315d5dbedc71807fd/1503451017341/jupyter-sq-text.png\"\n",
    "style=\"width:90px;height:100px;float:middle\">"
   ]
  },
  {
   "cell_type": "markdown",
   "metadata": {},
   "source": [
    "\n",
    "# Python安装和基础\n",
    "\n",
    "- 数据科学简介\n",
    "- python简介\n",
    "- python vs. R\n",
    "- anaconda安装\n",
    "- **Jupyter简介**\n",
    "- Unix bash命令基础\n"
   ]
  },
  {
   "cell_type": "markdown",
   "metadata": {},
   "source": [
    "### interactive computing: Jupyter"
   ]
  },
  {
   "cell_type": "markdown",
   "metadata": {},
   "source": [
    "- IPython:  Iteractive Python shell（Fernando Pérez, 2001, Advancement of Free Software award, 2013）\n",
    "\n",
    "- 生成文件.ipynb \n",
    "\n",
    "- Jupyter: JUlia, PYThon, and R and is inspired by the planet Jupiter.（spin-off of ipython, 2014）\n",
    "\n",
    "- nbviewer:（jupyter）notebook viewer:用于渲染jupyter html, pdf\n",
    "\n",
    "- jupyterhub:  类似于git和Github"
   ]
  },
  {
   "cell_type": "markdown",
   "metadata": {},
   "source": [
    "![](https://upload.wikimedia.org/wikipedia/commons/c/cc/IPython_Notebook_Workflows.png)"
   ]
  },
  {
   "cell_type": "markdown",
   "metadata": {},
   "source": [
    "  Launch Jupyter\n",
    "- 1. from anaconda launcher menu\n",
    "\n",
    "- 2. shell command: `jupyter notebook`"
   ]
  },
  {
   "cell_type": "markdown",
   "metadata": {
    "collapsed": true
   },
   "source": [
    "Two formats\n",
    "- Markdown (M)\n",
    "- Code (Y)"
   ]
  },
  {
   "cell_type": "markdown",
   "metadata": {},
   "source": [
    "Two modes\n",
    "\n",
    "- command mode (Esc)\n",
    "- edit mode (Enter)"
   ]
  },
  {
   "cell_type": "markdown",
   "metadata": {},
   "source": [
    "### IPython与Jupyter小贴士"
   ]
  },
  {
   "cell_type": "markdown",
   "metadata": {},
   "source": [
    "#### 1. 快捷键"
   ]
  },
  {
   "cell_type": "markdown",
   "metadata": {},
   "source": [
    " command mode (Esc) vs. edit mode (Enter or mouse click)"
   ]
  },
  {
   "cell_type": "markdown",
   "metadata": {
    "collapsed": true
   },
   "source": [
    "Run the cells: Shift+Enter,Ctrl+Enter"
   ]
  },
  {
   "cell_type": "markdown",
   "metadata": {},
   "source": [
    "Insert (A and B), Delete (D+D) cell and undo the deletion (Z)"
   ]
  },
  {
   "cell_type": "markdown",
   "metadata": {},
   "source": [
    "Merge (Shift+down,Shift+M) and Split (Ctrl + Shift + -) cell"
   ]
  },
  {
   "cell_type": "markdown",
   "metadata": {},
   "source": [
    "Cut (X) and Paste (V,Shift+V)"
   ]
  },
  {
   "cell_type": "markdown",
   "metadata": {},
   "source": [
    "#### 2. 显示输出结果设置"
   ]
  },
  {
   "cell_type": "code",
   "execution_count": 4,
   "metadata": {},
   "outputs": [
    {
     "data": {
      "text/plain": [
       "5"
      ]
     },
     "execution_count": 4,
     "metadata": {},
     "output_type": "execute_result"
    },
    {
     "data": {
      "text/plain": [
       "2"
      ]
     },
     "execution_count": 4,
     "metadata": {},
     "output_type": "execute_result"
    }
   ],
   "source": [
    "a=5\n",
    "b=2\n",
    "a;b"
   ]
  },
  {
   "cell_type": "code",
   "execution_count": 3,
   "metadata": {
    "collapsed": true
   },
   "outputs": [],
   "source": [
    "from IPython.core.interactiveshell import InteractiveShell\n",
    "InteractiveShell.ast_node_interactivity = \"all\"##last"
   ]
  },
  {
   "cell_type": "code",
   "execution_count": 8,
   "metadata": {},
   "outputs": [
    {
     "name": "stdout",
     "output_type": "stream",
     "text": [
      "Collecting pydataset\n",
      "  Using cached pydataset-0.2.0.tar.gz\n",
      "Requirement already satisfied: pandas in /anaconda/lib/python3.5/site-packages (from pydataset)\n",
      "Requirement already satisfied: python-dateutil>=2 in /anaconda/lib/python3.5/site-packages (from pandas->pydataset)\n",
      "Requirement already satisfied: pytz>=2011k in /anaconda/lib/python3.5/site-packages (from pandas->pydataset)\n",
      "Requirement already satisfied: numpy>=1.7.0 in /anaconda/lib/python3.5/site-packages (from pandas->pydataset)\n",
      "Requirement already satisfied: six>=1.5 in /anaconda/lib/python3.5/site-packages (from python-dateutil>=2->pandas->pydataset)\n",
      "Building wheels for collected packages: pydataset\n",
      "  Running setup.py bdist_wheel for pydataset ... \u001b[?25ldone\n",
      "\u001b[?25h  Stored in directory: /Users/qiangshen/Library/Caches/pip/wheels/63/f1/30/3a505c044a7e048d5c517323479e95d1a4014deca55e1303bc\n",
      "Successfully built pydataset\n",
      "Installing collected packages: pydataset\n",
      "Successfully installed pydataset-0.2.0\n"
     ]
    }
   ],
   "source": [
    "! pip install pydataset"
   ]
  },
  {
   "cell_type": "code",
   "execution_count": 5,
   "metadata": {
    "collapsed": true
   },
   "outputs": [],
   "source": [
    "from pydataset import data\n",
    "titanic = data('titanic')"
   ]
  },
  {
   "cell_type": "code",
   "execution_count": 10,
   "metadata": {},
   "outputs": [
    {
     "data": {
      "text/html": [
       "<div>\n",
       "<style>\n",
       "    .dataframe thead tr:only-child th {\n",
       "        text-align: right;\n",
       "    }\n",
       "\n",
       "    .dataframe thead th {\n",
       "        text-align: left;\n",
       "    }\n",
       "\n",
       "    .dataframe tbody tr th {\n",
       "        vertical-align: top;\n",
       "    }\n",
       "</style>\n",
       "<table border=\"1\" class=\"dataframe\">\n",
       "  <thead>\n",
       "    <tr style=\"text-align: right;\">\n",
       "      <th></th>\n",
       "      <th>class</th>\n",
       "      <th>age</th>\n",
       "      <th>sex</th>\n",
       "      <th>survived</th>\n",
       "    </tr>\n",
       "  </thead>\n",
       "  <tbody>\n",
       "    <tr>\n",
       "      <th>1</th>\n",
       "      <td>1st class</td>\n",
       "      <td>adults</td>\n",
       "      <td>man</td>\n",
       "      <td>yes</td>\n",
       "    </tr>\n",
       "    <tr>\n",
       "      <th>2</th>\n",
       "      <td>1st class</td>\n",
       "      <td>adults</td>\n",
       "      <td>man</td>\n",
       "      <td>yes</td>\n",
       "    </tr>\n",
       "    <tr>\n",
       "      <th>3</th>\n",
       "      <td>1st class</td>\n",
       "      <td>adults</td>\n",
       "      <td>man</td>\n",
       "      <td>yes</td>\n",
       "    </tr>\n",
       "    <tr>\n",
       "      <th>4</th>\n",
       "      <td>1st class</td>\n",
       "      <td>adults</td>\n",
       "      <td>man</td>\n",
       "      <td>yes</td>\n",
       "    </tr>\n",
       "    <tr>\n",
       "      <th>5</th>\n",
       "      <td>1st class</td>\n",
       "      <td>adults</td>\n",
       "      <td>man</td>\n",
       "      <td>yes</td>\n",
       "    </tr>\n",
       "  </tbody>\n",
       "</table>\n",
       "</div>"
      ],
      "text/plain": [
       "       class     age  sex survived\n",
       "1  1st class  adults  man      yes\n",
       "2  1st class  adults  man      yes\n",
       "3  1st class  adults  man      yes\n",
       "4  1st class  adults  man      yes\n",
       "5  1st class  adults  man      yes"
      ]
     },
     "execution_count": 10,
     "metadata": {},
     "output_type": "execute_result"
    },
    {
     "data": {
      "text/html": [
       "<div>\n",
       "<style>\n",
       "    .dataframe thead tr:only-child th {\n",
       "        text-align: right;\n",
       "    }\n",
       "\n",
       "    .dataframe thead th {\n",
       "        text-align: left;\n",
       "    }\n",
       "\n",
       "    .dataframe tbody tr th {\n",
       "        vertical-align: top;\n",
       "    }\n",
       "</style>\n",
       "<table border=\"1\" class=\"dataframe\">\n",
       "  <thead>\n",
       "    <tr style=\"text-align: right;\">\n",
       "      <th></th>\n",
       "      <th>class</th>\n",
       "      <th>age</th>\n",
       "      <th>sex</th>\n",
       "      <th>survived</th>\n",
       "    </tr>\n",
       "  </thead>\n",
       "  <tbody>\n",
       "    <tr>\n",
       "      <th>1312</th>\n",
       "      <td>3rd class</td>\n",
       "      <td>child</td>\n",
       "      <td>women</td>\n",
       "      <td>no</td>\n",
       "    </tr>\n",
       "    <tr>\n",
       "      <th>1313</th>\n",
       "      <td>3rd class</td>\n",
       "      <td>child</td>\n",
       "      <td>women</td>\n",
       "      <td>no</td>\n",
       "    </tr>\n",
       "    <tr>\n",
       "      <th>1314</th>\n",
       "      <td>3rd class</td>\n",
       "      <td>child</td>\n",
       "      <td>women</td>\n",
       "      <td>no</td>\n",
       "    </tr>\n",
       "    <tr>\n",
       "      <th>1315</th>\n",
       "      <td>3rd class</td>\n",
       "      <td>child</td>\n",
       "      <td>women</td>\n",
       "      <td>no</td>\n",
       "    </tr>\n",
       "    <tr>\n",
       "      <th>1316</th>\n",
       "      <td>3rd class</td>\n",
       "      <td>child</td>\n",
       "      <td>women</td>\n",
       "      <td>no</td>\n",
       "    </tr>\n",
       "  </tbody>\n",
       "</table>\n",
       "</div>"
      ],
      "text/plain": [
       "          class    age    sex survived\n",
       "1312  3rd class  child  women       no\n",
       "1313  3rd class  child  women       no\n",
       "1314  3rd class  child  women       no\n",
       "1315  3rd class  child  women       no\n",
       "1316  3rd class  child  women       no"
      ]
     },
     "execution_count": 10,
     "metadata": {},
     "output_type": "execute_result"
    }
   ],
   "source": [
    "titanic.head()\n",
    "titanic.tail()"
   ]
  },
  {
   "cell_type": "markdown",
   "metadata": {},
   "source": [
    "#### 3. 查看系统信息"
   ]
  },
  {
   "cell_type": "code",
   "execution_count": 11,
   "metadata": {},
   "outputs": [
    {
     "data": {
      "text/plain": [
       "'3.5.4 |Anaconda custom (x86_64)| (default, Aug 14 2017, 12:43:10) \\n[GCC 4.2.1 Compatible Apple LLVM 6.0 (clang-600.0.57)]'"
      ]
     },
     "execution_count": 11,
     "metadata": {},
     "output_type": "execute_result"
    },
    {
     "name": "stdout",
     "output_type": "stream",
     "text": [
      "Python 3.5.4 :: Anaconda custom (x86_64)\r\n"
     ]
    }
   ],
   "source": [
    "import sys\n",
    "sys.version\n",
    "! python -V"
   ]
  },
  {
   "cell_type": "markdown",
   "metadata": {},
   "source": [
    "#### 4. 支持Markdown和Latex （MathJax）"
   ]
  },
  {
   "cell_type": "markdown",
   "metadata": {},
   "source": [
    "**功能强大的**  *Markdown*"
   ]
  },
  {
   "cell_type": "markdown",
   "metadata": {},
   "source": [
    "- Markdown is a lightweight markup language with plain text formatting syntax.\n",
    "- It is designed so that it can be converted to HTML and many other formats using a tool by the same name\n",
    "- developed by Aaron Swartz and John Gruber in 2004\n",
    "- for example: 简书、RMarkdown in Rstudio"
   ]
  },
  {
   "cell_type": "markdown",
   "metadata": {},
   "source": [
    "**This is bold text**"
   ]
  },
  {
   "cell_type": "markdown",
   "metadata": {},
   "source": [
    "![figure](markdown.png)"
   ]
  },
  {
   "cell_type": "markdown",
   "metadata": {},
   "source": [
    "![](https://upload.wikimedia.org/wikipedia/commons/thumb/6/64/John_Gruber%2C_2009_%28cropped%29.jpg/220px-John_Gruber%2C_2009_%28cropped%29.jpg)"
   ]
  },
  {
   "cell_type": "markdown",
   "metadata": {
    "collapsed": true
   },
   "source": [
    "<http://jupyter-notebook.readthedocs.io/en/latest/examples/Notebook/Working%20With%20Markdown%20Cells.html>"
   ]
  },
  {
   "cell_type": "markdown",
   "metadata": {},
   "source": [
    "\n",
    "$$ P(A \\mid B) = \\frac{P(B \\mid A) \\, P(A)}{P(B)} $$"
   ]
  },
  {
   "cell_type": "markdown",
   "metadata": {},
   "source": [
    "$$ \\int_0^{+\\infty} x^2 dx $$"
   ]
  },
  {
   "cell_type": "markdown",
   "metadata": {},
   "source": [
    "#### 5. 内存里面的加载的库与变量"
   ]
  },
  {
   "cell_type": "code",
   "execution_count": 7,
   "metadata": {},
   "outputs": [
    {
     "name": "stdout",
     "output_type": "stream",
     "text": [
      "InteractiveShell\t a\t b\t c\t data\t titanic\t \n"
     ]
    }
   ],
   "source": [
    "a='1'\n",
    "b= 2\n",
    "c= 'love'\n",
    "%who"
   ]
  },
  {
   "cell_type": "markdown",
   "metadata": {},
   "source": [
    "#### 6. 执行外部.py命令"
   ]
  },
  {
   "cell_type": "code",
   "execution_count": 11,
   "metadata": {},
   "outputs": [
    {
     "name": "stdout",
     "output_type": "stream",
     "text": [
      "hello world!\r\n"
     ]
    }
   ],
   "source": [
    "## 执行外部文件\n",
    "! python /Users/qiangshen/Documents/cloud/Python/course_2/code/my.py\n"
   ]
  },
  {
   "cell_type": "markdown",
   "metadata": {},
   "source": [
    "#### 7. 导入外部文件信息"
   ]
  },
  {
   "cell_type": "code",
   "execution_count": null,
   "metadata": {},
   "outputs": [],
   "source": [
    "# %load code/mydemo.py\n",
    "\n",
    "import numpy\n",
    "def append_if_not_exists(arr, x):\n",
    "    if x not in arr:\n",
    "        arr.append(x)\n",
    "        \n",
    "def some_useless_slow_function():\n",
    "    arr = list()\n",
    "    for i in range(10000):\n",
    "        x = numpy.random.randint(0, 10000)\n",
    "        append_if_not_exists(arr, x)"
   ]
  },
  {
   "cell_type": "code",
   "execution_count": 13,
   "metadata": {
    "collapsed": true
   },
   "outputs": [],
   "source": [
    "%pycat code/mydemo.py"
   ]
  },
  {
   "cell_type": "markdown",
   "metadata": {},
   "source": [
    "#### 8. 导出.py文件"
   ]
  },
  {
   "cell_type": "code",
   "execution_count": 14,
   "metadata": {},
   "outputs": [
    {
     "name": "stdout",
     "output_type": "stream",
     "text": [
      "Writing code/myoutput.py\n"
     ]
    }
   ],
   "source": [
    "%%writefile code/myoutput.py\n",
    "\n",
    "import numpy\n",
    "def append_if_not_exists(arr, x):\n",
    "    if x not in arr:\n",
    "        arr.append(x)\n",
    "        \n",
    "def some_useless_slow_function():\n",
    "    arr = list()\n",
    "    for i in range(10000):\n",
    "        x = numpy.random.randint(0, 10000)\n",
    "        append_if_not_exists(arr, x)"
   ]
  },
  {
   "cell_type": "markdown",
   "metadata": {},
   "source": [
    "#### 9. 查看运行时间"
   ]
  },
  {
   "cell_type": "code",
   "execution_count": 18,
   "metadata": {},
   "outputs": [
    {
     "name": "stdout",
     "output_type": "stream",
     "text": [
      "CPU times: user 142 µs, sys: 68 µs, total: 210 µs\n",
      "Wall time: 197 µs\n"
     ]
    },
    {
     "data": {
      "text/plain": [
       "array([ 0.39666257,  0.45444083,  0.11632132,  0.05057555, -1.07524637,\n",
       "       -1.88841005, -0.45960086,  0.34789915, -1.83486574,  0.86357907,\n",
       "       -1.45171876, -0.20956048, -1.68208861, -0.5879521 ,  0.27021292,\n",
       "        0.01336875,  0.76815884, -1.35852973, -0.21198244, -1.39571794,\n",
       "        0.82428491,  0.03025373, -0.48917636,  1.08166643,  1.71910523,\n",
       "       -0.13912277,  0.15127551,  0.05783839, -0.29732353, -0.84057988,\n",
       "        0.01134588,  1.10427894,  1.53211477, -0.67269258,  0.18620986,\n",
       "        0.24823178, -0.29152977, -0.00398213, -0.30381923,  0.50043224,\n",
       "       -1.07737322, -1.2648454 , -0.50483907, -1.62900532,  0.069433  ,\n",
       "       -1.1488151 , -0.38752795,  1.22802195, -0.26781771, -0.32025271,\n",
       "        1.16976342,  0.47366496,  0.196867  ,  0.070519  , -1.02445298,\n",
       "       -0.15236348, -0.50599777,  0.83292796, -0.27484377,  1.02587652,\n",
       "        2.64360639,  1.21236379, -0.07575171,  0.92243489,  0.63540287,\n",
       "        0.12866413, -1.23645401,  0.51392669,  1.23523044, -2.06862451,\n",
       "       -1.99114588, -0.68936858,  2.09290456,  0.48395288, -0.10410281,\n",
       "        1.06058557,  1.12246968, -1.80000611,  0.35742733, -0.07353001,\n",
       "       -0.10537405,  0.68213228, -0.80837829, -0.1607796 , -0.13698743,\n",
       "       -0.43279209,  0.8492443 , -0.60166813, -0.31257888,  0.4958017 ,\n",
       "       -0.53096606, -0.59116535, -1.15812279,  0.26319456, -1.33758392,\n",
       "       -0.12309037, -0.55526521, -0.32256546, -0.47817696, -0.41432309])"
      ]
     },
     "execution_count": 18,
     "metadata": {},
     "output_type": "execute_result"
    }
   ],
   "source": [
    "import numpy\n",
    "%time numpy.random.normal(size=100)"
   ]
  },
  {
   "cell_type": "markdown",
   "metadata": {},
   "source": [
    "####  10. 执行其他kernal"
   ]
  },
  {
   "cell_type": "code",
   "execution_count": 17,
   "metadata": {},
   "outputs": [
    {
     "name": "stdout",
     "output_type": "stream",
     "text": [
      "a\n"
     ]
    }
   ],
   "source": [
    "%%python2\n",
    "print 'a'"
   ]
  },
  {
   "cell_type": "code",
   "execution_count": 19,
   "metadata": {},
   "outputs": [
    {
     "name": "stdout",
     "output_type": "stream",
     "text": [
      "i is 1\n",
      "i is 2\n",
      "i is 3\n",
      "i is 4\n",
      "i is 5\n"
     ]
    }
   ],
   "source": [
    "%%bash\n",
    "for i in {1..5}\n",
    "do\n",
    "   echo \"i is $i\"\n",
    "done"
   ]
  },
  {
   "cell_type": "markdown",
   "metadata": {},
   "source": [
    "### R vs. Python"
   ]
  },
  {
   "cell_type": "code",
   "execution_count": 20,
   "metadata": {},
   "outputs": [
    {
     "name": "stdout",
     "output_type": "stream",
     "text": [
      "/Users/qiangshen/Documents/cloud/Python/course_2\n",
      "/Users/qiangshen/Desktop\n",
      "InteractiveShell\t a\t b\t c\t data\t os\t titanic\t \n"
     ]
    }
   ],
   "source": [
    "import os\n",
    "print (os.getcwd())\n",
    "os.chdir('/Users/qiangshen/desktop/')\n",
    "print (os.getcwd())\n",
    "%who"
   ]
  },
  {
   "cell_type": "code",
   "execution_count": 31,
   "metadata": {},
   "outputs": [
    {
     "name": "stdout",
     "output_type": "stream",
     "text": [
      "The rpy2.ipython extension is already loaded. To reload it, use:\n",
      "  %reload_ext rpy2.ipython\n"
     ]
    },
    {
     "data": {
      "text/plain": [
       "array(['/Users/qiangshen'],\n",
       "      dtype='<U16')"
      ]
     },
     "execution_count": 31,
     "metadata": {},
     "output_type": "execute_result"
    },
    {
     "data": {
      "text/html": [
       "<div>\n",
       "<style>\n",
       "    .dataframe thead tr:only-child th {\n",
       "        text-align: right;\n",
       "    }\n",
       "\n",
       "    .dataframe thead th {\n",
       "        text-align: left;\n",
       "    }\n",
       "\n",
       "    .dataframe tbody tr th {\n",
       "        vertical-align: top;\n",
       "    }\n",
       "</style>\n",
       "<table border=\"1\" class=\"dataframe\">\n",
       "  <thead>\n",
       "    <tr style=\"text-align: right;\">\n",
       "      <th></th>\n",
       "      <th>Sepal.Length</th>\n",
       "      <th>Sepal.Width</th>\n",
       "      <th>Petal.Length</th>\n",
       "      <th>Petal.Width</th>\n",
       "      <th>Species</th>\n",
       "    </tr>\n",
       "  </thead>\n",
       "  <tbody>\n",
       "    <tr>\n",
       "      <th>1</th>\n",
       "      <td>5.1</td>\n",
       "      <td>3.5</td>\n",
       "      <td>1.4</td>\n",
       "      <td>0.2</td>\n",
       "      <td>setosa</td>\n",
       "    </tr>\n",
       "    <tr>\n",
       "      <th>2</th>\n",
       "      <td>4.9</td>\n",
       "      <td>3.0</td>\n",
       "      <td>1.4</td>\n",
       "      <td>0.2</td>\n",
       "      <td>setosa</td>\n",
       "    </tr>\n",
       "    <tr>\n",
       "      <th>3</th>\n",
       "      <td>4.7</td>\n",
       "      <td>3.2</td>\n",
       "      <td>1.3</td>\n",
       "      <td>0.2</td>\n",
       "      <td>setosa</td>\n",
       "    </tr>\n",
       "    <tr>\n",
       "      <th>4</th>\n",
       "      <td>4.6</td>\n",
       "      <td>3.1</td>\n",
       "      <td>1.5</td>\n",
       "      <td>0.2</td>\n",
       "      <td>setosa</td>\n",
       "    </tr>\n",
       "    <tr>\n",
       "      <th>5</th>\n",
       "      <td>5.0</td>\n",
       "      <td>3.6</td>\n",
       "      <td>1.4</td>\n",
       "      <td>0.2</td>\n",
       "      <td>setosa</td>\n",
       "    </tr>\n",
       "    <tr>\n",
       "      <th>6</th>\n",
       "      <td>5.4</td>\n",
       "      <td>3.9</td>\n",
       "      <td>1.7</td>\n",
       "      <td>0.4</td>\n",
       "      <td>setosa</td>\n",
       "    </tr>\n",
       "  </tbody>\n",
       "</table>\n",
       "</div>"
      ],
      "text/plain": [
       "   Sepal.Length  Sepal.Width  Petal.Length  Petal.Width Species\n",
       "1           5.1          3.5           1.4          0.2  setosa\n",
       "2           4.9          3.0           1.4          0.2  setosa\n",
       "3           4.7          3.2           1.3          0.2  setosa\n",
       "4           4.6          3.1           1.5          0.2  setosa\n",
       "5           5.0          3.6           1.4          0.2  setosa\n",
       "6           5.4          3.9           1.7          0.4  setosa"
      ]
     },
     "execution_count": 31,
     "metadata": {},
     "output_type": "execute_result"
    }
   ],
   "source": [
    "%load_ext rpy2.ipython\n",
    "%R setwd('~')\n",
    "%R head(iris)"
   ]
  },
  {
   "cell_type": "code",
   "execution_count": 40,
   "metadata": {},
   "outputs": [
    {
     "data": {
      "text/plain": [
       "['.com.google.Chrome.9STsRB',\n",
       " '.com.google.Chrome.EhwymE',\n",
       " '.com.google.Chrome.mhLrlW',\n",
       " '.com.google.Chrome.XydKHg',\n",
       " '.DS_Store',\n",
       " '.ipynb_checkpoints',\n",
       " '.localized',\n",
       " '2 Data Retrieval and Represent.pdf',\n",
       " '_8de230fbd48ce0d921f3889501785a32_1.1-Walk-into-Python.pdf',\n",
       " 'basic_example.py',\n",
       " 'book.txt',\n",
       " 'book2.txt',\n",
       " 'companies.txt',\n",
       " 'companies2.txt',\n",
       " 'econwp244.pdf',\n",
       " 'figs',\n",
       " 'Head.First.Python（中文版）.pdf',\n",
       " 'helloworld.py',\n",
       " 'index (1).mp4',\n",
       " 'index (4).mp4',\n",
       " 'index (5).mp4',\n",
       " 'index.mp4',\n",
       " 'intermediate python.pdf',\n",
       " 'loss_aversion_others',\n",
       " 'MPL_May2017.pdf',\n",
       " 'python and data analysis',\n",
       " 'SSRN-id3023640.pdf',\n",
       " 'subtitle.txt',\n",
       " 'temp.py',\n",
       " 'temp_data',\n",
       " 'test.txt',\n",
       " 'test1.txt',\n",
       " 'test2.txt',\n",
       " 'Untitled.ipynb',\n",
       " 'voice',\n",
       " 'votes.txt']"
      ]
     },
     "execution_count": 40,
     "metadata": {},
     "output_type": "execute_result"
    }
   ],
   "source": [
    "import os\n",
    "os.chdir('/Users/qiangshen/desktop')\n",
    "os.getcwd()\n",
    "os.listdir()"
   ]
  },
  {
   "cell_type": "code",
   "execution_count": 47,
   "metadata": {},
   "outputs": [
    {
     "name": "stdout",
     "output_type": "stream",
     "text": [
      "Interactive namespace is empty.\n",
      "a\t b\t \n"
     ]
    }
   ],
   "source": [
    "%reset -f\n",
    "%who\n",
    "a=1;b=2\n",
    "%who"
   ]
  },
  {
   "cell_type": "code",
   "execution_count": 48,
   "metadata": {},
   "outputs": [
    {
     "name": "stdout",
     "output_type": "stream",
     "text": [
      "b\t \n"
     ]
    }
   ],
   "source": [
    "%who"
   ]
  },
  {
   "cell_type": "markdown",
   "metadata": {},
   "source": [
    "R python基础命令列表(spyder)"
   ]
  },
  {
   "cell_type": "markdown",
   "metadata": {},
   "source": [
    "| language | files in WD   | clear memory | clear console  | list variables  |  pwd|  cd|\n",
    "|:------:|:------:|:------:|:------:|:------:|:------:|:------:|\n",
    "|     R  |   list.files()|  rm(list=ls())|  Ctrl+L|ls()|  getwd() |  setwd()|\n",
    "|   python  | os.listdir(os.curdir) |  %reset -f/del x|  clear| %who(s) |  os.getcwd()|  os.chdir()|\n",
    "|   Linux  | ls | NA |  Ctrl+L| NA |  pwd|  cd|"
   ]
  },
  {
   "cell_type": "code",
   "execution_count": 25,
   "metadata": {},
   "outputs": [
    {
     "name": "stdout",
     "output_type": "stream",
     "text": [
      "Interactive namespace is empty.\n"
     ]
    }
   ],
   "source": [
    "%who"
   ]
  },
  {
   "cell_type": "markdown",
   "metadata": {},
   "source": [
    "\n",
    "# Python安装和基础\n",
    "\n",
    "- 数据科学简介\n",
    "- python简介\n",
    "- python vs. R\n",
    "- anaconda安装\n",
    "- Jupyter简介\n",
    "- **Unix bash命令基础**"
   ]
  },
  {
   "cell_type": "markdown",
   "metadata": {},
   "source": [
    "### 熟练掌握Unix命令：shell commands "
   ]
  },
  {
   "cell_type": "markdown",
   "metadata": {},
   "source": [
    "### unix bash命令"
   ]
  },
  {
   "cell_type": "code",
   "execution_count": 1,
   "metadata": {},
   "outputs": [
    {
     "name": "stdout",
     "output_type": "stream",
     "text": [
      "# List of acceptable shells for chpass(1).\r\n",
      "# Ftpd will not allow users to connect who are not using\r\n",
      "# one of these shells.\r\n",
      "\r\n",
      "/bin/bash\r\n",
      "/bin/csh\r\n",
      "/bin/ksh\r\n",
      "/bin/sh\r\n",
      "/bin/tcsh\r\n",
      "/bin/zsh\r\n"
     ]
    }
   ],
   "source": [
    "cat /etc/shells"
   ]
  },
  {
   "cell_type": "code",
   "execution_count": 15,
   "metadata": {},
   "outputs": [
    {
     "name": "stdout",
     "output_type": "stream",
     "text": [
      "\u001b[34mfigs\u001b[m\u001b[m                     python and data analysis\n",
      "loss_aversion_others     voice\n",
      "['figs', 'loss_aversion_others', 'python and data analysis', 'voice']\n"
     ]
    }
   ],
   "source": [
    "# -*- coding: utf-8 -*-\n",
    "! ls\n",
    "temp = ! ls\n",
    "print(temp)"
   ]
  },
  {
   "cell_type": "code",
   "execution_count": 16,
   "metadata": {
    "scrolled": true
   },
   "outputs": [
    {
     "name": "stdout",
     "output_type": "stream",
     "text": [
      "/Users/qiangshen/Desktop\n",
      "/bin/sh: line 0: cd: ~/desktop/example: No such file or directory\n",
      "/Users/qiangshen/Desktop\n",
      "\u001b[34mfigs\u001b[m\u001b[m                     python and data analysis\n",
      "loss_aversion_others     voice\n"
     ]
    }
   ],
   "source": [
    "! pwd\n",
    "! cd \"~/desktop/example\"\n",
    "! pwd\n",
    "! ls"
   ]
  },
  {
   "cell_type": "code",
   "execution_count": 17,
   "metadata": {
    "collapsed": true,
    "scrolled": true
   },
   "outputs": [],
   "source": [
    "import os\n",
    "os.chdir('/Users/qiangshen/Desktop/')"
   ]
  },
  {
   "cell_type": "code",
   "execution_count": 18,
   "metadata": {
    "scrolled": true
   },
   "outputs": [
    {
     "name": "stdout",
     "output_type": "stream",
     "text": [
      "\u001b[34mfigs\u001b[m\u001b[m                     python and data analysis\n",
      "loss_aversion_others     voice\n",
      "\u001b[34mfigs\u001b[m\u001b[m                     python and data analysis voice\n",
      "loss_aversion_others     \u001b[34mtemp\u001b[m\u001b[m\n",
      "\u001b[34mfigs\u001b[m\u001b[m                     python and data analysis\n",
      "loss_aversion_others     voice\n",
      "\u001b[34mfigs\u001b[m\u001b[m                     python and data analysis voice\n",
      "loss_aversion_others     temp.txt\n",
      "\u001b[34mfigs\u001b[m\u001b[m                     python and data analysis\n",
      "loss_aversion_others     voice\n"
     ]
    }
   ],
   "source": [
    "! ls\n",
    "! mkdir temp\n",
    "! ls\n",
    "! rmdir temp\n",
    "! ls\n",
    "! touch temp.txt\n",
    "! ls\n",
    "! rm temp.txt\n",
    "!ls"
   ]
  },
  {
   "cell_type": "markdown",
   "metadata": {},
   "source": [
    "支持ASCII码"
   ]
  },
  {
   "cell_type": "code",
   "execution_count": 19,
   "metadata": {},
   "outputs": [
    {
     "name": "stdout",
     "output_type": "stream",
     "text": [
      "\u001b[34mfigs\u001b[m\u001b[m                     python and data analysis\n",
      "loss_aversion_others     voice\n",
      "['figs', 'loss_aversion_others', 'python and data analysis', 'voice']\n",
      "/Users/qiangshen/Desktop\n",
      "/bin/sh: line 0: cd: ~/desktop/example: No such file or directory\n",
      "/Users/qiangshen/Desktop\n",
      "\u001b[34mfigs\u001b[m\u001b[m                     python and data analysis\n",
      "loss_aversion_others     voice\n"
     ]
    }
   ],
   "source": [
    "### unix bash命令\n",
    "# -*- coding: utf-8 -*-\n",
    "! ls\n",
    "temp = ! ls\n",
    "print(temp)\n",
    "\n",
    "! pwd\n",
    "! cd \"~/desktop/example\"\n",
    "! pwd\n",
    "! ls"
   ]
  },
  {
   "cell_type": "code",
   "execution_count": 23,
   "metadata": {},
   "outputs": [
    {
     "name": "stdout",
     "output_type": "stream",
     "text": [
      "\u001b[34mfigs\u001b[m\u001b[m                     python and data analysis\n",
      "loss_aversion_others     voice\n",
      "\u001b[34mfigs\u001b[m\u001b[m                     python and data analysis\n",
      "loss_aversion_others     voice\n",
      "\u001b[34mfigs\u001b[m\u001b[m                     python and data analysis voice\n",
      "loss_aversion_others     \u001b[34mtemp\u001b[m\u001b[m\n",
      "\u001b[34mfigs\u001b[m\u001b[m                     python and data analysis\n",
      "loss_aversion_others     voice\n",
      "\u001b[34mfigs\u001b[m\u001b[m                     python and data analysis voice\n",
      "loss_aversion_others     temp.txt\n",
      "\u001b[34mfigs\u001b[m\u001b[m                     python and data analysis\n",
      "loss_aversion_others     voice\n"
     ]
    }
   ],
   "source": [
    "### 熟练掌握Linux命令：shell commands \n",
    "\n",
    "import os\n",
    "os.chdir('/Users/qiangshen/Desktop/')\n",
    "! ls\n",
    "filenames = ! ls\n",
    "filenames\n",
    "\n",
    "! ls\n",
    "! mkdir temp\n",
    "! ls\n",
    "! rmdir temp\n",
    "! ls\n",
    "! touch temp.txt\n",
    "! ls\n",
    "! rm temp.txt\n",
    "!ls"
   ]
  },
  {
   "cell_type": "markdown",
   "metadata": {},
   "source": [
    "# 练习模块\n",
    "- anaonda的安装：在自己的电脑上安装两个版本的anaconda\n",
    "- Jupyter：熟悉Jupyter的基本操作\n",
    "- Unix bash练习：熟悉bash命令的基本操作\n",
    "- 举一个现实中将相关当成因果的例子"
   ]
  },
  {
   "cell_type": "markdown",
   "metadata": {},
   "source": [
    "shell access: https://ipython.org/ipython-doc/3/interactive/reference.html#system-shell-access"
   ]
  },
  {
   "cell_type": "markdown",
   "metadata": {},
   "source": [
    "reference:https://blog.dominodatalab.com/video-huge-debate-r-vs-python-data-science/"
   ]
  }
 ],
 "metadata": {
  "kernelspec": {
   "display_name": "Python 3",
   "language": "python",
   "name": "python3"
  },
  "language_info": {
   "codemirror_mode": {
    "name": "ipython",
    "version": 3
   },
   "file_extension": ".py",
   "mimetype": "text/x-python",
   "name": "python",
   "nbconvert_exporter": "python",
   "pygments_lexer": "ipython3",
   "version": "3.5.4"
  }
 },
 "nbformat": 4,
 "nbformat_minor": 2
}
