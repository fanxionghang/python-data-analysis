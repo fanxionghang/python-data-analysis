{
 "cells": [
  {
   "cell_type": "markdown",
   "metadata": {
    "slideshow": {
     "slide_type": "slide"
    }
   },
   "source": [
    "#### Flow control, Loops\n",
    "- 1\\. Condition\n",
    "- 2\\. Loop"
   ]
  },
  {
   "cell_type": "code",
   "execution_count": null,
   "metadata": {
    "collapsed": true,
    "slideshow": {
     "slide_type": "skip"
    }
   },
   "outputs": [],
   "source": [
    "from IPython.core.interactiveshell import InteractiveShell\n",
    "InteractiveShell.ast_node_interactivity = \"all\"##last"
   ]
  },
  {
   "cell_type": "markdown",
   "metadata": {
    "slideshow": {
     "slide_type": "slide"
    }
   },
   "source": [
    "#### conditional execution"
   ]
  },
  {
   "cell_type": "markdown",
   "metadata": {
    "slideshow": {
     "slide_type": "subslide"
    }
   },
   "source": [
    "#### condition: `if`"
   ]
  },
  {
   "cell_type": "code",
   "execution_count": null,
   "metadata": {
    "collapsed": true,
    "slideshow": {
     "slide_type": "fragment"
    }
   },
   "outputs": [],
   "source": [
    "if BOOLEAN EXPRESSION:\n",
    "    STATEMENTS"
   ]
  },
  {
   "cell_type": "markdown",
   "metadata": {
    "slideshow": {
     "slide_type": "fragment"
    }
   },
   "source": [
    "<img src=\"http://www.openbookproject.net/books/bpp4awd/_images/flowchart_if_only.png\"\n",
    "style=\"float:middle\">\n"
   ]
  },
  {
   "cell_type": "markdown",
   "metadata": {
    "slideshow": {
     "slide_type": "subslide"
    }
   },
   "source": [
    "#### condition: `if`"
   ]
  },
  {
   "cell_type": "code",
   "execution_count": null,
   "metadata": {
    "collapsed": true,
    "slideshow": {
     "slide_type": "fragment"
    }
   },
   "outputs": [],
   "source": [
    "if BOOLEAN EXPRESSION:\n",
    "    STATEMENTS"
   ]
  },
  {
   "cell_type": "code",
   "execution_count": null,
   "metadata": {
    "collapsed": true
   },
   "outputs": [],
   "source": []
  },
  {
   "cell_type": "markdown",
   "metadata": {
    "slideshow": {
     "slide_type": "fragment"
    }
   },
   "source": [
    "- 1\\. The colon (:) is significant and required. It separates the **header** of the **compound statement** from the body.\n",
    "- 2\\. The line after the colon must be indented. It is standard in Python to use four spaces for indenting.\n",
    "- 3\\. All lines indented the same amount after the colon will be executed whenever the BOOLEAN_EXPRESSION is true."
   ]
  },
  {
   "cell_type": "markdown",
   "metadata": {
    "slideshow": {
     "slide_type": "subslide"
    }
   },
   "source": [
    "#### condition: `if`"
   ]
  },
  {
   "cell_type": "code",
   "execution_count": null,
   "metadata": {
    "collapsed": true,
    "slideshow": {
     "slide_type": "fragment"
    }
   },
   "outputs": [],
   "source": [
    "if BOOLEAN EXPRESSION:\n",
    "    STATEMENTS"
   ]
  },
  {
   "cell_type": "code",
   "execution_count": null,
   "metadata": {
    "collapsed": true,
    "slideshow": {
     "slide_type": "fragment"
    }
   },
   "outputs": [],
   "source": [
    "food = 'ice cream!'\n",
    "\n",
    "if snack == 'ice cream!': ###condition:True or False\n",
    "    print('Ummmm, my favorite food!\\n')\n",
    "    print('I feel like saying it 5 times...\\n')\n",
    "    print(5*(food + '!\\n'))"
   ]
  },
  {
   "cell_type": "markdown",
   "metadata": {
    "slideshow": {
     "slide_type": "subslide"
    }
   },
   "source": [
    "#### The `if else` statement"
   ]
  },
  {
   "cell_type": "code",
   "execution_count": null,
   "metadata": {
    "collapsed": true,
    "slideshow": {
     "slide_type": "fragment"
    }
   },
   "outputs": [],
   "source": [
    "if BOOLEAN EXPRESSION:\n",
    "    STATEMENTS_1        # executed if condition evaluates to True\n",
    "else:\n",
    "    STATEMENTS_2        # executed if condition evaluates to False"
   ]
  },
  {
   "cell_type": "markdown",
   "metadata": {
    "slideshow": {
     "slide_type": "fragment"
    }
   },
   "source": [
    "![](http://www.openbookproject.net/books/bpp4awd/_images/flowchart_if_else.png)"
   ]
  },
  {
   "cell_type": "markdown",
   "metadata": {
    "slideshow": {
     "slide_type": "subslide"
    }
   },
   "source": [
    "#### The `if else` statement"
   ]
  },
  {
   "cell_type": "code",
   "execution_count": null,
   "metadata": {
    "collapsed": true,
    "slideshow": {
     "slide_type": "fragment"
    }
   },
   "outputs": [],
   "source": [
    "if True:          \n",
    "    print('Yes!') \n",
    "else:\n",
    "    print('No!')"
   ]
  },
  {
   "cell_type": "code",
   "execution_count": null,
   "metadata": {
    "collapsed": true,
    "slideshow": {
     "slide_type": "fragment"
    }
   },
   "outputs": [],
   "source": [
    "food='beef'\n",
    "if food == 'mutton':\n",
    "    print('Ummmm, my favorite food!')\n",
    "else:\n",
    "    print(\"No, I won't have it. I want mutton!\")"
   ]
  },
  {
   "cell_type": "markdown",
   "metadata": {
    "slideshow": {
     "slide_type": "subslide"
    }
   },
   "source": [
    "#### The `if else` statement"
   ]
  },
  {
   "cell_type": "code",
   "execution_count": null,
   "metadata": {
    "collapsed": true,
    "slideshow": {
     "slide_type": "fragment"
    }
   },
   "outputs": [],
   "source": [
    "sd1=int(input('the first side is:'))\n",
    "sd2=int(input('the second side is:'))\n",
    "if sd1 == sd2:\n",
    "    print (\"The square's area is: %d\" % (sd1*sd2))\n",
    "else:  \n",
    "    print (\"The rectangle's area is: %d\" % (sd1*sd2))"
   ]
  },
  {
   "cell_type": "markdown",
   "metadata": {
    "slideshow": {
     "slide_type": "slide"
    }
   },
   "source": [
    "#### Chained conditionals"
   ]
  },
  {
   "cell_type": "code",
   "execution_count": null,
   "metadata": {
    "collapsed": true,
    "slideshow": {
     "slide_type": "fragment"
    }
   },
   "outputs": [],
   "source": [
    "if x < y:\n",
    "    STATEMENTS_A\n",
    "elif x > y:\n",
    "    STATEMENTS_B\n",
    "else:\n",
    "    STATEMENTS_C"
   ]
  },
  {
   "cell_type": "markdown",
   "metadata": {
    "slideshow": {
     "slide_type": "fragment"
    }
   },
   "source": [
    "![](http://www.openbookproject.net/books/bpp4awd/_images/flowchart_chained_conditional.png)"
   ]
  },
  {
   "cell_type": "markdown",
   "metadata": {
    "slideshow": {
     "slide_type": "subslide"
    }
   },
   "source": [
    "#### Chained conditionals"
   ]
  },
  {
   "cell_type": "code",
   "execution_count": null,
   "metadata": {
    "collapsed": true,
    "slideshow": {
     "slide_type": "fragment"
    }
   },
   "outputs": [],
   "source": [
    "if choice == 'a':\n",
    "    print(\"You chose 'a'.\")\n",
    "elif choice == 'b':\n",
    "    print(\"You chose 'b'.\")\n",
    "elif choice == 'c':\n",
    "    print(\"You chose 'c'.\")\n",
    "else:\n",
    "    print(\"Invalid choice.\")"
   ]
  },
  {
   "cell_type": "markdown",
   "metadata": {
    "slideshow": {
     "slide_type": "subslide"
    }
   },
   "source": [
    "#### Chained conditionals"
   ]
  },
  {
   "cell_type": "code",
   "execution_count": null,
   "metadata": {
    "collapsed": true,
    "slideshow": {
     "slide_type": "fragment"
    }
   },
   "outputs": [],
   "source": [
    "##%%writefile ifelif.py\n",
    "k = input('input the index of the shape: ')\n",
    "if k =='1':\n",
    "    print ('circle')\n",
    "elif k == '2':\n",
    "    print ('oval')\n",
    "elif k == '3':\n",
    "    print ('rectangle')\n",
    "elif k == '4':\n",
    "    print ('triangle')\n",
    "else:\n",
    "    print ('You print the invalid number')"
   ]
  },
  {
   "cell_type": "markdown",
   "metadata": {
    "slideshow": {
     "slide_type": "subslide"
    }
   },
   "source": [
    "#### Example: number guessing"
   ]
  },
  {
   "cell_type": "code",
   "execution_count": null,
   "metadata": {
    "collapsed": true,
    "slideshow": {
     "slide_type": "fragment"
    }
   },
   "outputs": [],
   "source": [
    "##%%writefile guess.py\n",
    "import random\n",
    "x=randint(0,5)\n",
    "print ('please input a number between 0 and 5')\n",
    "digit = int(input())\n",
    "if digit == x:\n",
    "    print ('Bingo!')\n",
    "elif digit>x:\n",
    "    print ('Too large, please try again.')\n",
    "else: \n",
    "    print (\"Too small, please try again.\")"
   ]
  },
  {
   "cell_type": "markdown",
   "metadata": {
    "slideshow": {
     "slide_type": "subslide"
    }
   },
   "source": [
    "#### Nested conditionals"
   ]
  },
  {
   "cell_type": "code",
   "execution_count": null,
   "metadata": {
    "collapsed": true,
    "slideshow": {
     "slide_type": "fragment"
    }
   },
   "outputs": [],
   "source": [
    "if x < y:\n",
    "    STATEMENTS_A\n",
    "else:\n",
    "    if x > y:\n",
    "        STATEMENTS_B\n",
    "    else:\n",
    "        STATEMENTS_C"
   ]
  },
  {
   "cell_type": "markdown",
   "metadata": {
    "slideshow": {
     "slide_type": "fragment"
    }
   },
   "source": [
    "![](http://www.openbookproject.net/books/bpp4awd/_images/flowchart_nested_conditional.png)"
   ]
  },
  {
   "cell_type": "markdown",
   "metadata": {
    "slideshow": {
     "slide_type": "subslide"
    }
   },
   "source": [
    "#### Nested conditionals"
   ]
  },
  {
   "cell_type": "code",
   "execution_count": null,
   "metadata": {
    "collapsed": true
   },
   "outputs": [],
   "source": [
    "k = input('input the index of the shape: ')\n",
    "if k =='1':\n",
    "    print ('circle')\n",
    "elif k == '2':\n",
    "    print ('oval')\n",
    "elif k == '3':\n",
    "    sd1=int(input('the first side:'))\n",
    "    sd2=int(input('the second side:'))\n",
    "    \n",
    "    if sd1==sd2:\n",
    "        print(\"the square's area is:%d\" % (sd1*sd2))\n",
    "    else: \n",
    "        print(\"the rectangle's area is:%d\" % (sd1*sd2))\n",
    "        \n",
    "elif k == '4':\n",
    "    print ('triangle')\n",
    "else:\n",
    "    print ('You print the invalid number')"
   ]
  },
  {
   "cell_type": "markdown",
   "metadata": {
    "slideshow": {
     "slide_type": "subslide"
    }
   },
   "source": [
    "#### condition: `if`\n",
    "- `if`\n",
    "- `if else`\n",
    "- `if elif else` (Chained conditionals)\n",
    "- `if if/else/elif` (Nested conditionals)"
   ]
  },
  {
   "cell_type": "markdown",
   "metadata": {
    "slideshow": {
     "slide_type": "subslide"
    }
   },
   "source": [
    "#### range"
   ]
  },
  {
   "cell_type": "code",
   "execution_count": null,
   "metadata": {
    "collapsed": true,
    "slideshow": {
     "slide_type": "fragment"
    }
   },
   "outputs": [],
   "source": [
    "range(3,11,2)\n",
    "list(range(3,11,2))"
   ]
  },
  {
   "cell_type": "code",
   "execution_count": null,
   "metadata": {
    "collapsed": true,
    "slideshow": {
     "slide_type": "subslide"
    }
   },
   "outputs": [],
   "source": [
    "for i in range(3,11,2):\n",
    "    print(i)"
   ]
  },
  {
   "cell_type": "markdown",
   "metadata": {
    "slideshow": {
     "slide_type": "subslide"
    }
   },
   "source": [
    "#### for loop"
   ]
  },
  {
   "cell_type": "code",
   "execution_count": null,
   "metadata": {
    "collapsed": true,
    "slideshow": {
     "slide_type": "fragment"
    }
   },
   "outputs": [],
   "source": [
    "for LOOP_VARIABLE in SEQUENCE:\n",
    "    STATEMENTS"
   ]
  },
  {
   "cell_type": "markdown",
   "metadata": {
    "slideshow": {
     "slide_type": "fragment"
    }
   },
   "source": [
    "![](https://www.tutorialspoint.com/python/images/loop_architecture.jpg)"
   ]
  },
  {
   "cell_type": "markdown",
   "metadata": {
    "slideshow": {
     "slide_type": "subslide"
    }
   },
   "source": [
    "#### for loop"
   ]
  },
  {
   "cell_type": "code",
   "execution_count": null,
   "metadata": {
    "collapsed": true,
    "slideshow": {
     "slide_type": "fragment"
    }
   },
   "outputs": [],
   "source": [
    "s='python'\n",
    "for c in s:\n",
    "    print(c,end='_')"
   ]
  },
  {
   "cell_type": "code",
   "execution_count": null,
   "metadata": {
    "collapsed": true,
    "slideshow": {
     "slide_type": "fragment"
    }
   },
   "outputs": [],
   "source": [
    "for i in range(5):\n",
    "    print(i)"
   ]
  },
  {
   "cell_type": "markdown",
   "metadata": {
    "slideshow": {
     "slide_type": "subslide"
    }
   },
   "source": [
    "#### for loop"
   ]
  },
  {
   "cell_type": "code",
   "execution_count": null,
   "metadata": {
    "collapsed": true,
    "slideshow": {
     "slide_type": "fragment"
    }
   },
   "outputs": [],
   "source": [
    "for i in range(5):\n",
    "    print('i is now:', i)"
   ]
  },
  {
   "cell_type": "code",
   "execution_count": null,
   "metadata": {
    "collapsed": true,
    "slideshow": {
     "slide_type": "fragment"
    }
   },
   "outputs": [],
   "source": [
    "for x in range(10):   # Generate numbers 0 to 12\n",
    "    print(x, '\\t', 2**x)"
   ]
  },
  {
   "cell_type": "markdown",
   "metadata": {
    "slideshow": {
     "slide_type": "subslide"
    }
   },
   "source": [
    "#### for loop"
   ]
  },
  {
   "cell_type": "code",
   "execution_count": null,
   "metadata": {
    "collapsed": true,
    "slideshow": {
     "slide_type": "fragment"
    }
   },
   "outputs": [],
   "source": [
    "for friend in ['Margot', 'Kathryn', 'Prisila']:\n",
    "    invitation = \"Hi \" + friend + \".  Please come to my party on Saturday!\"\n",
    "    print(invitation)"
   ]
  },
  {
   "cell_type": "markdown",
   "metadata": {
    "slideshow": {
     "slide_type": "subslide"
    }
   },
   "source": [
    "#### for loop"
   ]
  },
  {
   "cell_type": "code",
   "execution_count": null,
   "metadata": {
    "collapsed": true
   },
   "outputs": [],
   "source": [
    "for i in range(1,10):\n",
    "    x=randint(0,n)\n",
    "    print(x,end=' ')"
   ]
  },
  {
   "cell_type": "markdown",
   "metadata": {
    "slideshow": {
     "slide_type": "subslide"
    }
   },
   "source": [
    "#### for loop"
   ]
  },
  {
   "cell_type": "code",
   "execution_count": null,
   "metadata": {
    "collapsed": true,
    "slideshow": {
     "slide_type": "fragment"
    }
   },
   "outputs": [],
   "source": [
    "from random import randint\n",
    "x = randint(0, 300)\n",
    "for count in range(0,5):\n",
    "    print('Please input a number between 0~300:')\n",
    "    digit = int(input())\n",
    "    if digit == x :\n",
    "        print('Bingo!')\n",
    "    elif digit > x:\n",
    "        print('Too large,please try again.')\n",
    "    else:\n",
    "        print('Too small,please try again.')"
   ]
  },
  {
   "cell_type": "markdown",
   "metadata": {
    "slideshow": {
     "slide_type": "subslide"
    }
   },
   "source": [
    "#### for loop"
   ]
  },
  {
   "cell_type": "code",
   "execution_count": null,
   "metadata": {
    "collapsed": true,
    "slideshow": {
     "slide_type": "fragment"
    }
   },
   "outputs": [],
   "source": [
    "n = 0\n",
    "summ = 100\n",
    "for i in range(1,summ+1):\n",
    "    n=n+i\n",
    "print(\"Sum of 1 to %d equals to %d\" % (summ,n))"
   ]
  },
  {
   "cell_type": "markdown",
   "metadata": {
    "slideshow": {
     "slide_type": "subslide"
    }
   },
   "source": [
    "#### for loop"
   ]
  },
  {
   "cell_type": "code",
   "execution_count": null,
   "metadata": {
    "collapsed": true,
    "slideshow": {
     "slide_type": "fragment"
    }
   },
   "outputs": [],
   "source": [
    "### for loop\n",
    "sumA=0\n",
    "n=100\n",
    "for i in range(1,n+1):\n",
    "    if i%2==1:\n",
    "        sumA=sumA+i\n",
    "print('summation from 1 to %d equals to %d' % (i,sumA))"
   ]
  },
  {
   "cell_type": "markdown",
   "metadata": {
    "slideshow": {
     "slide_type": "subslide"
    }
   },
   "source": [
    "#### The `while` statement"
   ]
  },
  {
   "cell_type": "code",
   "execution_count": null,
   "metadata": {
    "collapsed": true,
    "slideshow": {
     "slide_type": "fragment"
    }
   },
   "outputs": [],
   "source": [
    "while BOOLEAN_EXPRESSION:\n",
    "    STATEMENTS"
   ]
  },
  {
   "cell_type": "markdown",
   "metadata": {
    "slideshow": {
     "slide_type": "subslide"
    }
   },
   "source": [
    "#### The `while` statement"
   ]
  },
  {
   "cell_type": "code",
   "execution_count": null,
   "metadata": {
    "collapsed": true,
    "slideshow": {
     "slide_type": "fragment"
    }
   },
   "outputs": [],
   "source": [
    "number = 0\n",
    "prompt = \"What is the meaning of life, the universe, and everything? \"\n",
    "\n",
    "while number != \"42\":\n",
    "    number =  input(prompt)"
   ]
  },
  {
   "cell_type": "markdown",
   "metadata": {
    "slideshow": {
     "slide_type": "subslide"
    }
   },
   "source": [
    "#### The `while` statement"
   ]
  },
  {
   "cell_type": "code",
   "execution_count": null,
   "metadata": {
    "collapsed": true,
    "slideshow": {
     "slide_type": "fragment"
    }
   },
   "outputs": [],
   "source": [
    "j=1;i=0\n",
    "while j<=100:\n",
    "    i=i+j\n",
    "    j=j+1\n",
    "print(i)"
   ]
  },
  {
   "cell_type": "markdown",
   "metadata": {
    "slideshow": {
     "slide_type": "subslide"
    }
   },
   "source": [
    "#### The while loop"
   ]
  },
  {
   "cell_type": "code",
   "execution_count": null,
   "metadata": {
    "collapsed": true,
    "slideshow": {
     "slide_type": "fragment"
    }
   },
   "outputs": [],
   "source": [
    "### while loop\n",
    "sumA=0\n",
    "n=100\n",
    "i=1\n",
    "while i<n+1:\n",
    "    if i%2==1:\n",
    "        sumA=sumA+i\n",
    "    i=i+1\n",
    "print('summation from 1 to %d equals to %d' % (i-1,sumA))"
   ]
  },
  {
   "cell_type": "markdown",
   "metadata": {
    "slideshow": {
     "slide_type": "subslide"
    }
   },
   "source": [
    "#### The `break` statement"
   ]
  },
  {
   "cell_type": "code",
   "execution_count": null,
   "metadata": {
    "collapsed": true,
    "slideshow": {
     "slide_type": "fragment"
    }
   },
   "outputs": [],
   "source": [
    "summ = 0;i = 0\n",
    "while True:\n",
    "    i=i+1\n",
    "    summ = summ + i  \n",
    "    if summ > 10:\n",
    "        break \n",
    "print('i=%d,sum=%d' % (i,summ))"
   ]
  },
  {
   "cell_type": "markdown",
   "metadata": {
    "slideshow": {
     "slide_type": "subslide"
    }
   },
   "source": [
    "#### The `break` statement"
   ]
  },
  {
   "cell_type": "code",
   "execution_count": null,
   "metadata": {
    "collapsed": true,
    "slideshow": {
     "slide_type": "fragment"
    }
   },
   "outputs": [],
   "source": [
    "summ = 0;i = 1\n",
    "while True:\n",
    "    summ = summ + i \n",
    "    i = i + 1 \n",
    "    if summ > 10:\n",
    "        break \n",
    "print('i=%d,sum=%d' % (i,summ))"
   ]
  },
  {
   "cell_type": "markdown",
   "metadata": {
    "slideshow": {
     "slide_type": "subslide"
    }
   },
   "source": [
    "#### The while loop and break"
   ]
  },
  {
   "cell_type": "code",
   "execution_count": null,
   "metadata": {
    "collapsed": true,
    "slideshow": {
     "slide_type": "fragment"
    }
   },
   "outputs": [],
   "source": [
    "summ=0;i=1;n=10\n",
    "while i<=n:\n",
    "    summ = summ+i\n",
    "    if i==5:\n",
    "        break\n",
    "    print('i=%d,sum=%d' % (i,summ))\n",
    "    i=i+1"
   ]
  },
  {
   "cell_type": "markdown",
   "metadata": {
    "slideshow": {
     "slide_type": "subslide"
    }
   },
   "source": [
    "#### The while loop and break"
   ]
  },
  {
   "cell_type": "code",
   "execution_count": null,
   "metadata": {
    "collapsed": true,
    "slideshow": {
     "slide_type": "fragment"
    }
   },
   "outputs": [],
   "source": [
    "## while loop\n",
    "from math import sqrt\n",
    "j=2\n",
    "n=100\n",
    "while j<=n:\n",
    "    i=2\n",
    "    k=sqrt(j)\n",
    "    while(i<=k):\n",
    "        if j%i==0:break\n",
    "        i=i+1\n",
    "    if(i>k):\n",
    "        print(j,end=' ')\n",
    "    j=j+1"
   ]
  },
  {
   "cell_type": "markdown",
   "metadata": {
    "slideshow": {
     "slide_type": "subslide"
    }
   },
   "source": [
    "#### The for loop and break"
   ]
  },
  {
   "cell_type": "code",
   "execution_count": null,
   "metadata": {
    "collapsed": true,
    "slideshow": {
     "slide_type": "fragment"
    }
   },
   "outputs": [],
   "source": [
    "p=2;n=99\n",
    "for p in range(2, n+1):\n",
    "    for i in range(2, p):\n",
    "        if p % i == 0:\n",
    "            break\n",
    "    else:\n",
    "        print(p,end=' ')"
   ]
  },
  {
   "cell_type": "markdown",
   "metadata": {
    "slideshow": {
     "slide_type": "subslide"
    }
   },
   "source": [
    "#### The for loop and break"
   ]
  },
  {
   "cell_type": "code",
   "execution_count": null,
   "metadata": {
    "collapsed": true,
    "slideshow": {
     "slide_type": "fragment"
    }
   },
   "outputs": [],
   "source": [
    "import random                      # Import the random module \n",
    "number = random.randrange(1, 1000) # Get random number between [1 and 1000)\n",
    "guesses = 0\n",
    "guess = int(input(\"Guess my number between 1 and 1000: \"))\n",
    "while guess != number:\n",
    "    guesses += 1\n",
    "    if guess > number:\n",
    "        print(guess, \"is too high.\") \n",
    "    elif guess < number:\n",
    "        print(guess, \" is too low.\")\n",
    "    guess = int(input(\"Guess again: \"))\n",
    "\n",
    "print(\"\\n\\nGreat, you got it in\", guesses,  \"guesses!\")"
   ]
  },
  {
   "cell_type": "markdown",
   "metadata": {
    "slideshow": {
     "slide_type": "subslide"
    }
   },
   "source": [
    "#### The for loop and break"
   ]
  },
  {
   "cell_type": "code",
   "execution_count": null,
   "metadata": {
    "collapsed": true,
    "slideshow": {
     "slide_type": "fragment"
    }
   },
   "outputs": [],
   "source": [
    "name = 'Harrison'\n",
    "guess = input(\"So I'm thinking of person's name. Try to guess it: \")\n",
    "pos = 0\n",
    "\n",
    "while guess != name and pos < len(name):\n",
    "    print(\"Nope, that's not it! Hint: letter \", end='')\n",
    "    print(pos + 1, \"is\", name[pos] + \". \", end='')\n",
    "    guess = input(\"Guess again: \")\n",
    "    pos = pos + 1\n",
    "\n",
    "if pos == len(name) and name != guess:\n",
    "    print(\"Too bad, you couldn't get it.  The name was\", name + \".\")\n",
    "else:\n",
    "    print(\"\\nGreat, you got it in\", pos + 1,  \"guesses!\")"
   ]
  },
  {
   "cell_type": "markdown",
   "metadata": {
    "slideshow": {
     "slide_type": "subslide"
    }
   },
   "source": [
    "#### continue"
   ]
  },
  {
   "cell_type": "code",
   "execution_count": 184,
   "metadata": {
    "slideshow": {
     "slide_type": "fragment"
    }
   },
   "outputs": [
    {
     "name": "stdout",
     "output_type": "stream",
     "text": [
      "i=2,sum=1\n",
      "i=3,sum=3\n",
      "i=4,sum=6\n",
      "i=6,sum=15\n",
      "i=7,sum=21\n",
      "i=8,sum=28\n",
      "i=9,sum=36\n",
      "i=10,sum=45\n",
      "i=11,sum=55\n"
     ]
    }
   ],
   "source": [
    "# %load breakpro.py\n",
    "sumA=0\n",
    "i=1\n",
    "n=10\n",
    "\n",
    "while i<=n:\n",
    "    sumA = sumA+i\n",
    "    i=i+1\n",
    "    if i==5:\n",
    "        continue ### \n",
    "    print('i=%d,sum=%d' % (i,sumA))\n",
    "   "
   ]
  },
  {
   "cell_type": "markdown",
   "metadata": {
    "slideshow": {
     "slide_type": "subslide"
    }
   },
   "source": [
    "- for \n",
    "- while \n",
    "- break\n",
    "- continue"
   ]
  }
 ],
 "metadata": {
  "kernelspec": {
   "display_name": "Python 3",
   "language": "python",
   "name": "python3"
  },
  "language_info": {
   "codemirror_mode": {
    "name": "ipython",
    "version": 3
   },
   "file_extension": ".py",
   "mimetype": "text/x-python",
   "name": "python",
   "nbconvert_exporter": "python",
   "pygments_lexer": "ipython3",
   "version": "3.5.4"
  }
 },
 "nbformat": 4,
 "nbformat_minor": 2
}
