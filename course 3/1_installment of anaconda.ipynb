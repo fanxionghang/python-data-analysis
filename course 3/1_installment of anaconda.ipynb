{
 "cells": [
  {
   "cell_type": "markdown",
   "metadata": {},
   "source": [
    "### anaconda程序安装流程"
   ]
  },
  {
   "cell_type": "markdown",
   "metadata": {},
   "source": [
    "<hr>\n",
    "# Python安装和基础\n",
    "\n",
    "- 数据科学简介\n",
    "- python简介\n",
    "- python vs. R\n",
    "- **anaconda安装**\n",
    "- Jupyter简介\n",
    "- Unix bash命令基础\n",
    "- 基础工具箱简介"
   ]
  },
  {
   "cell_type": "markdown",
   "metadata": {},
   "source": [
    "- domain specific language:R, matlab, Julia\n",
    "- general purpose programming language:python"
   ]
  },
  {
   "cell_type": "markdown",
   "metadata": {},
   "source": [
    "### python安装\n",
    "\n",
    "- 本课程推荐使用anaconda\n",
    "- Spyder与R语言的集成开发环境[Rstudio](https://www.rstudio.com/)类似\n",
    "- anaconda vs. python\n",
    "- 第一：提供了包管理功能，Windows 平台安装第三方包经常失败的场景得以解决，\n",
    "- 第二：提供环境管理的功能，功能类似 Virtualenv，解决了多版本Python并存、切换的问题。\n",
    "\n",
    "- 官网Anaconda: https://www.continuum.io/downloads, Anaconda提供跨平台支持，有Windows版本,Mac版本和Linux版本。\n",
    "\n",
    "- 清华大学开源软件镜像站 https://mirrors.tuna.tsinghua.edu.cn/anaconda/archive/\n",
    "\n",
    "- The basic IPython client: at the terminal, simply type `ipython`:\n",
    "\n",
    "\n"
   ]
  },
  {
   "cell_type": "markdown",
   "metadata": {},
   "source": [
    "### 1. 从清华大学镜像安装anaconda 3: python 3"
   ]
  },
  {
   "cell_type": "markdown",
   "metadata": {},
   "source": [
    "**Python 2.x is legacy, Python 3.x is the present and future of the language  - Guido van Rossum**\n"
   ]
  },
  {
   "cell_type": "markdown",
   "metadata": {
    "collapsed": true
   },
   "source": [
    "https://mirrors.tuna.tsinghua.edu.cn/anaconda/archive/"
   ]
  },
  {
   "cell_type": "markdown",
   "metadata": {},
   "source": [
    "### 2. 设置清华大学镜像为安装包的默认镜像"
   ]
  },
  {
   "cell_type": "code",
   "execution_count": null,
   "metadata": {
    "collapsed": true
   },
   "outputs": [],
   "source": [
    "! conda config --add channels https://mirrors.tuna.tsinghua.edu.cn/anaconda/pkgs/free/\n",
    "! conda config --set show_channel_urls yes\n",
    "##https://conda.io/docs/channels.html\n",
    "## ! conda config --set channel_priority false"
   ]
  },
  {
   "cell_type": "markdown",
   "metadata": {},
   "source": [
    "### 3. 使用命令行增加python 2"
   ]
  },
  {
   "cell_type": "code",
   "execution_count": null,
   "metadata": {
    "collapsed": true
   },
   "outputs": [],
   "source": [
    "### 参考https://conda.io/docs/user-guide/tasks/manage-python.html\n",
    "! conda create -name py27 python=2.7 anaconda"
   ]
  },
  {
   "cell_type": "markdown",
   "metadata": {
    "collapsed": true
   },
   "source": [
    "### 4. 查看已经安装好的python环境\n"
   ]
  },
  {
   "cell_type": "code",
   "execution_count": null,
   "metadata": {
    "collapsed": true
   },
   "outputs": [],
   "source": [
    "! conda info -e\n",
    "! conda env list\n",
    "\n",
    "# To activate this environment, use:\n",
    "# > source activate py27\n",
    "#\n",
    "# To deactivate this environment, use:\n",
    "# > source deactivate py27"
   ]
  },
  {
   "cell_type": "markdown",
   "metadata": {},
   "source": [
    "### 5.查看已经安装好的python环境和包"
   ]
  },
  {
   "cell_type": "code",
   "execution_count": null,
   "metadata": {
    "collapsed": true
   },
   "outputs": [],
   "source": [
    "! conda list\n",
    "! conda list -n py27"
   ]
  },
  {
   "cell_type": "markdown",
   "metadata": {},
   "source": [
    "### 打开jupyter notebook"
   ]
  },
  {
   "cell_type": "code",
   "execution_count": null,
   "metadata": {
    "collapsed": true
   },
   "outputs": [],
   "source": [
    "###anaconda launcher\n",
    "! jupyter notebook"
   ]
  },
  {
   "cell_type": "code",
   "execution_count": 6,
   "metadata": {},
   "outputs": [
    {
     "name": "stdout",
     "output_type": "stream",
     "text": [
      "Hello world!\r\n"
     ]
    }
   ],
   "source": [
    "import os\n",
    "os.chdir('/Users/qiangshen/desktop')\n",
    "os.getcwd()\n",
    "!python helloworld.py"
   ]
  },
  {
   "cell_type": "markdown",
   "metadata": {},
   "source": [
    "### 6. 安装jupyter notebook的python 2内核"
   ]
  },
  {
   "cell_type": "code",
   "execution_count": null,
   "metadata": {
    "collapsed": true
   },
   "outputs": [],
   "source": [
    "###安装python 2 kernal\n",
    "! conda install -n py27 ipykernel\n",
    "! source activate py27 ## Windows系统下Power shell不能激活，需要使用cmd.\n",
    "! python -m ipykernel install --user"
   ]
  },
  {
   "cell_type": "markdown",
   "metadata": {
    "collapsed": true
   },
   "source": [
    "### success!!!"
   ]
  },
  {
   "cell_type": "markdown",
   "metadata": {
    "collapsed": true
   },
   "source": [
    " ### bonus"
   ]
  },
  {
   "cell_type": "markdown",
   "metadata": {},
   "source": [
    "### 移除安装环境"
   ]
  },
  {
   "cell_type": "code",
   "execution_count": null,
   "metadata": {
    "collapsed": true
   },
   "outputs": [],
   "source": [
    "! conda remove --name myenv --all"
   ]
  },
  {
   "cell_type": "markdown",
   "metadata": {},
   "source": [
    "### 在anaconda下安装、移除和更新安装包"
   ]
  },
  {
   "cell_type": "code",
   "execution_count": null,
   "metadata": {
    "collapsed": true
   },
   "outputs": [],
   "source": [
    "! conda install xlrd \n",
    "! conda install -n py27 xlrd\n",
    "! conda install -n renv readxl"
   ]
  },
  {
   "cell_type": "code",
   "execution_count": null,
   "metadata": {
    "collapsed": true
   },
   "outputs": [],
   "source": [
    "! conda remove xlrd\n",
    "! conda remove -n py27 xlrd"
   ]
  },
  {
   "cell_type": "code",
   "execution_count": null,
   "metadata": {
    "collapsed": true
   },
   "outputs": [],
   "source": [
    "###To update a specific package:\n",
    "! conda update biopython\n",
    "\n",
    "###To update Python:    \n",
    "! conda update python\n",
    "\n",
    "###To downgrade Python: \n",
    "! conda install python=3.5\n",
    "\n",
    "### To update conda itself:\n",
    "! conda update conda"
   ]
  },
  {
   "cell_type": "code",
   "execution_count": 3,
   "metadata": {},
   "outputs": [
    {
     "name": "stdout",
     "output_type": "stream",
     "text": [
      "Requirement already satisfied: pyserial in /anaconda/lib/python3.5/site-packages\n"
     ]
    }
   ],
   "source": [
    "try:\n",
    "    import pyserial\n",
    "except:\n",
    "    import pip\n",
    "    pip.main(['install','pyserial'])"
   ]
  },
  {
   "cell_type": "markdown",
   "metadata": {},
   "source": [
    "#### R  installment"
   ]
  },
  {
   "cell_type": "markdown",
   "metadata": {},
   "source": [
    "- 1.IRkernel: https://github.com/IRkernel/IRkernel\n",
    "- 2.conda command: `conda install r-essentials`"
   ]
  },
  {
   "cell_type": "code",
   "execution_count": null,
   "metadata": {
    "collapsed": true
   },
   "outputs": [],
   "source": [
    "! conda create -n renv -c r r-essentials"
   ]
  },
  {
   "cell_type": "markdown",
   "metadata": {},
   "source": [
    "手动安装包\n",
    "\n",
    "1. 下载需要的安装包。\n",
    "2. 打开你要安装的安装包，里面会用setup.py，在terminal下利用cd命令调整到当前路径，然后使用\n",
    "   python setup.py进行安装就可以了。"
   ]
  },
  {
   "cell_type": "markdown",
   "metadata": {},
   "source": [
    "Reference:\n",
    "- https://conda.io/docs/user-guide/tasks/manage-pkgs.html\n",
    "- https://jakevdp.github.io/blog/2016/08/25/conda-myths-and-misconceptions/\n",
    "- https://andersc.gitbooks.io/ipython-interactive-computing-visualization/content/1.1.intro_to_anaconda.html\n",
    "- https://foofish.net/anaconda-install.html (conda/pip安装包镜像设置)\n",
    "- https://conda.io/docs/user-guide/tasks/use-r-with-conda.html\n",
    "- https://www.anaconda.com/developer-blog/jupyter-and-conda-r/ (slides convert)"
   ]
  },
  {
   "cell_type": "markdown",
   "metadata": {},
   "source": [
    "#### Notes:\n",
    "    \n",
    "1. 上课教室：2-16周下午8-9节，博易楼404机房。\n",
    "2. 实验室提供电脑进行上机练习，但鼓励同学们自己带电脑上课，如果是Windows电脑，建议安装一个Linux的虚拟机或者双系统。\n",
    "3. 在电脑上完成anaconda python 3和python 2（可选）的安装，感兴趣者可以尝试R的安装，实现Jupyter多核之间的自由切换。\n",
    "4. 鼓励学生探索python课程相关的知识，如有与上课课程密切相关有趣心得，鼓励上课时与同学分享（需提前email跟老师沟通预约）。\n",
    "5. 课程作业需要独立完成，鼓励同学之间相互讨论、交流，但是作业不能抄袭，否则一经发现，相应作业直接0分处理。\n",
    "6. 陈平原教授：为中材提供规范，给天才预留空间。天才不是课堂教育的结果。"
   ]
  }
 ],
 "metadata": {
  "kernelspec": {
   "display_name": "Python 3",
   "language": "python",
   "name": "python3"
  },
  "language_info": {
   "codemirror_mode": {
    "name": "ipython",
    "version": 3
   },
   "file_extension": ".py",
   "mimetype": "text/x-python",
   "name": "python",
   "nbconvert_exporter": "python",
   "pygments_lexer": "ipython3",
   "version": "3.5.4"
  }
 },
 "nbformat": 4,
 "nbformat_minor": 2
}
