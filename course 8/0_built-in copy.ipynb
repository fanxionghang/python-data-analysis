{
 "cells": [
  {
   "cell_type": "code",
   "execution_count": null,
   "metadata": {
    "collapsed": true,
    "slideshow": {
     "slide_type": "skip"
    }
   },
   "outputs": [],
   "source": [
    "from IPython.core.interactiveshell import InteractiveShell\n",
    "InteractiveShell.ast_node_interactivity = \"all\"##last"
   ]
  },
  {
   "cell_type": "markdown",
   "metadata": {
    "slideshow": {
     "slide_type": "slide"
    }
   },
   "source": [
    "- built-in type : List \n",
    "- Arrays/Matrices (Numpy)\n",
    "- data I/O (Pandas)"
   ]
  },
  {
   "cell_type": "markdown",
   "metadata": {
    "slideshow": {
     "slide_type": "subslide"
    }
   },
   "source": [
    "#### Working directory"
   ]
  },
  {
   "cell_type": "code",
   "execution_count": null,
   "metadata": {
    "collapsed": true,
    "slideshow": {
     "slide_type": "fragment"
    }
   },
   "outputs": [],
   "source": [
    "import os\n",
    "os.getcwd()\n",
    "##os.chdir('/Users/qiangshen/desktop')## \\ in windows system\n",
    "##os.listdir()\n",
    "## !ls"
   ]
  },
  {
   "cell_type": "markdown",
   "metadata": {
    "slideshow": {
     "slide_type": "subslide"
    }
   },
   "source": [
    "#### Content of the course\n",
    "- `open` and `close`\n",
    "- `read` files: `read(lines)`\n",
    "- `write` files: `write(lines)`"
   ]
  },
  {
   "cell_type": "markdown",
   "metadata": {
    "slideshow": {
     "slide_type": "subslide"
    }
   },
   "source": [
    "#### data import \n",
    "- import csv: read_csv/read_table\n",
    "- import xlsx:read_excel\n",
    "- import stata/SAS:read_sas/read_stata\n",
    "- import matlab:loadmat (scipy)"
   ]
  },
  {
   "cell_type": "markdown",
   "metadata": {
    "slideshow": {
     "slide_type": "subslide"
    }
   },
   "source": [
    "#### `read_csv`\n",
    "- variable name\n",
    "- separation\n",
    "- skip rows\n",
    "- column index\n",
    "- missing\n",
    "- observation selection"
   ]
  },
  {
   "cell_type": "markdown",
   "metadata": {
    "slideshow": {
     "slide_type": "subslide"
    }
   },
   "source": [
    "#### data output\n",
    "- export as csv file: `to_csv`\n",
    "- export as text file: `to_csv`\n",
    "- export as excel file: `to_excel`\n",
    "- export as stata file: `to_stata` \n",
    "- export as matlab file: `savemat`"
   ]
  },
  {
   "cell_type": "markdown",
   "metadata": {
    "slideshow": {
     "slide_type": "slide"
    }
   },
   "source": [
    "![](http://edouard-legoupil.github.io/humanitaRian-data-science/slides/assets/img/language.png)"
   ]
  },
  {
   "cell_type": "markdown",
   "metadata": {
    "slideshow": {
     "slide_type": "slide"
    }
   },
   "source": [
    "<img src=\"http://7xp2eu.com1.z0.glb.clouddn.com/pythonobjectmutable.png\"\n",
    "style=\"width:451px;height:264px;float:middle\">\n",
    "![]()"
   ]
  },
  {
   "cell_type": "code",
   "execution_count": null,
   "metadata": {
    "collapsed": true,
    "slideshow": {
     "slide_type": "fragment"
    }
   },
   "outputs": [],
   "source": [
    "x=[1,2,3]\n",
    "id(x)\n",
    "x[0]=-1\n",
    "x;id(x)"
   ]
  },
  {
   "cell_type": "markdown",
   "metadata": {
    "slideshow": {
     "slide_type": "subslide"
    }
   },
   "source": [
    "#### Immutable objects:\n",
    "\n",
    "- Numeric types: int, float, complex\n",
    "- string\n",
    "- tuple\n",
    "- frozen set\n",
    "\n",
    "#### Mutable objects:\n",
    "- list\n",
    "- dict\n",
    "- set\n",
    "- byte array\n"
   ]
  },
  {
   "cell_type": "markdown",
   "metadata": {
    "slideshow": {
     "slide_type": "subslide"
    }
   },
   "source": [
    "#### course 4\n",
    "- No copy\n",
    "- Shallow copy\n",
    "- deep copy"
   ]
  },
  {
   "cell_type": "markdown",
   "metadata": {
    "slideshow": {
     "slide_type": "subslide"
    }
   },
   "source": [
    "- immutable objects"
   ]
  },
  {
   "cell_type": "code",
   "execution_count": null,
   "metadata": {
    "collapsed": true,
    "slideshow": {
     "slide_type": "fragment"
    }
   },
   "outputs": [],
   "source": [
    "x=2;y=x\n",
    "id(x);id(y)\n",
    "y=3.0\n",
    "x;y\n",
    "id(x);id(y)"
   ]
  },
  {
   "cell_type": "markdown",
   "metadata": {
    "slideshow": {
     "slide_type": "subslide"
    }
   },
   "source": [
    "- Mutable objects:"
   ]
  },
  {
   "cell_type": "code",
   "execution_count": null,
   "metadata": {
    "collapsed": true,
    "slideshow": {
     "slide_type": "fragment"
    }
   },
   "outputs": [],
   "source": [
    "colours1=['red','green']\n",
    "colours2=colours1\n",
    "colours2=['Purple','blue']\n",
    "colours1;colours2\n",
    "id(colours1);id(colours2)"
   ]
  },
  {
   "cell_type": "markdown",
   "metadata": {
    "slideshow": {
     "slide_type": "subslide"
    }
   },
   "source": [
    "- Mutable objects: No copy "
   ]
  },
  {
   "cell_type": "code",
   "execution_count": null,
   "metadata": {
    "collapsed": true,
    "slideshow": {
     "slide_type": "fragment"
    }
   },
   "outputs": [],
   "source": [
    "colours1=['red','green']\n",
    "colours2=colours1\n",
    "colours2[1]='blue'\n",
    "colours1;colours2\n",
    "##colours1 is colours2"
   ]
  },
  {
   "cell_type": "markdown",
   "metadata": {
    "slideshow": {
     "slide_type": "subslide"
    }
   },
   "source": [
    "- Mutable objects: No copy "
   ]
  },
  {
   "cell_type": "markdown",
   "metadata": {
    "slideshow": {
     "slide_type": "fragment"
    }
   },
   "source": [
    "![](https://www.python-course.eu/images/deep_copy_1)"
   ]
  },
  {
   "cell_type": "markdown",
   "metadata": {
    "slideshow": {
     "slide_type": "fragment"
    }
   },
   "source": [
    "![](https://www.python-course.eu/images/deep_copy_2)"
   ]
  },
  {
   "cell_type": "markdown",
   "metadata": {
    "slideshow": {
     "slide_type": "subslide"
    }
   },
   "source": [
    "- Mutable objects: shallow copy"
   ]
  },
  {
   "cell_type": "code",
   "execution_count": 39,
   "metadata": {},
   "outputs": [
    {
     "name": "stdout",
     "output_type": "stream",
     "text": [
      "['a', 'x', 'c', 'd']\n",
      "['a', 'b', 'c', 'd']\n"
     ]
    }
   ],
   "source": [
    "list1 = ['a','b','c','d']\n",
    "list2 = list1[:]###slicing\n",
    "##list3=list1.copy()\n",
    "list2[1] = 'x'\n",
    "print(list2)\n",
    "print(list1)"
   ]
  },
  {
   "cell_type": "markdown",
   "metadata": {
    "slideshow": {
     "slide_type": "subslide"
    }
   },
   "source": [
    "#### Mutable objects: shallow copy\n",
    "- 拷贝组合对象，不拷贝子对象"
   ]
  },
  {
   "cell_type": "code",
   "execution_count": 40,
   "metadata": {},
   "outputs": [
    {
     "name": "stdout",
     "output_type": "stream",
     "text": [
      "['a', 'b', ['ab', 'ba']]\n",
      "['c', 'b', ['ab', 'ba']]\n"
     ]
    }
   ],
   "source": [
    "lst1 = ['a','b',['ab','ba']]\n",
    "lst2 = lst1[:]\n",
    "lst2[0] = 'c'\n",
    "print(lst1)\n",
    "print(lst2)"
   ]
  },
  {
   "cell_type": "markdown",
   "metadata": {},
   "source": [
    "![](https://www.python-course.eu/images/deep_copy_3)"
   ]
  },
  {
   "cell_type": "markdown",
   "metadata": {
    "slideshow": {
     "slide_type": "subslide"
    }
   },
   "source": [
    "- Mutable objects: shallow copy"
   ]
  },
  {
   "cell_type": "code",
   "execution_count": 51,
   "metadata": {},
   "outputs": [
    {
     "name": "stdout",
     "output_type": "stream",
     "text": [
      "4458067424 4458067424\n",
      "4457514016 4457514016\n",
      "4488049672 4488049672\n"
     ]
    }
   ],
   "source": [
    "lst1 = ['a','b',['ab','ba']]\n",
    "lst2 = lst1[:]\n",
    "for x,y in zip(lst1,lst2):#id(s) of ['ab','ba'] are identical\n",
    "    print(id(x),id(y))"
   ]
  },
  {
   "cell_type": "code",
   "execution_count": 52,
   "metadata": {
    "slideshow": {
     "slide_type": "fragment"
    }
   },
   "outputs": [
    {
     "name": "stdout",
     "output_type": "stream",
     "text": [
      "['a', 'b', ['ab', 'd']]\n",
      "['c', 'b', ['ab', 'd']]\n"
     ]
    }
   ],
   "source": [
    "lst2[0] = 'c';lst2[2][1] = 'd'\n",
    "print(lst1);print(lst2)"
   ]
  },
  {
   "cell_type": "markdown",
   "metadata": {
    "slideshow": {
     "slide_type": "fragment"
    }
   },
   "source": [
    "![](https://www.python-course.eu/images/deep_copy_4)"
   ]
  },
  {
   "cell_type": "markdown",
   "metadata": {
    "slideshow": {
     "slide_type": "subslide"
    }
   },
   "source": [
    "- Mutable objects: deep copy"
   ]
  },
  {
   "cell_type": "code",
   "execution_count": 58,
   "metadata": {},
   "outputs": [
    {
     "name": "stdout",
     "output_type": "stream",
     "text": [
      "4458067424 4458067424\n",
      "4457514016 4457514016\n",
      "4488326536 4488052360\n"
     ]
    }
   ],
   "source": [
    "import copy as cp\n",
    "lst1 = ['a','b',['ab','ba']];lst2 = cp.deepcopy(lst1)\n",
    "# id(s) of ['ab','ba'] are not identical\n",
    "for x,y in zip(lst1,lst2):\n",
    "    print(id(x),id(y))"
   ]
  },
  {
   "cell_type": "code",
   "execution_count": 59,
   "metadata": {
    "slideshow": {
     "slide_type": "fragment"
    }
   },
   "outputs": [
    {
     "name": "stdout",
     "output_type": "stream",
     "text": [
      "['c', 'b', ['ab', 'd']]\n",
      "['a', 'b', ['ab', 'ba']]\n"
     ]
    }
   ],
   "source": [
    "lst2[2][1] = \"d\";lst2[0] = \"c\"\n",
    "print(lst2);print(lst1)"
   ]
  },
  {
   "cell_type": "markdown",
   "metadata": {
    "slideshow": {
     "slide_type": "fragment"
    }
   },
   "source": [
    "![](https://www.python-course.eu/images/deep_copy_5)"
   ]
  },
  {
   "cell_type": "markdown",
   "metadata": {
    "slideshow": {
     "slide_type": "subslide"
    }
   },
   "source": [
    "- Mutable objects"
   ]
  },
  {
   "cell_type": "markdown",
   "metadata": {
    "slideshow": {
     "slide_type": "fragment"
    }
   },
   "source": [
    "- No copy: `b=a`\n",
    "- Shallow copy:`b=a[:]/b=a.copy()`\n",
    "- deep copy:`b=deepcopy(a)`"
   ]
  }
 ],
 "metadata": {
  "kernelspec": {
   "display_name": "Python 3",
   "language": "python",
   "name": "python3"
  },
  "language_info": {
   "codemirror_mode": {
    "name": "ipython",
    "version": 3
   },
   "file_extension": ".py",
   "mimetype": "text/x-python",
   "name": "python",
   "nbconvert_exporter": "python",
   "pygments_lexer": "ipython3",
   "version": "3.5.4"
  }
 },
 "nbformat": 4,
 "nbformat_minor": 2
}
