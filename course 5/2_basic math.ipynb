{
 "cells": [
  {
   "cell_type": "markdown",
   "metadata": {},
   "source": [
    "|  Operator \t|  Meaning \t|Example   \t|   Algebraic\t|\n",
    "|:---:\t|:---:\t|:---:\t|:---:\t|\n",
    "|   +\t|  Addition \t|  x+y \t|   x+y\t|\n",
    "|   -\t|   Substraction\t|  x-y \t|  x-y \t|\n",
    "|   *\t|   Multiplication\t|   x*y\t|   xy\t|\n",
    "|   /\t|   Division\t|  x/y \t|  $$\\frac{x}{y}$$ \t|\n",
    "|   //\t|   Integer Division\t| x//y \t|   $$[\\frac{x}{y}]$$   \t|\n",
    "|   **\t| Exponentiation \t|  x**y \t|   $$x^y$$  \t|"
   ]
  },
  {
   "cell_type": "code",
   "execution_count": null,
   "metadata": {
    "collapsed": true
   },
   "outputs": [],
   "source": []
  }
 ],
 "metadata": {
  "kernelspec": {
   "display_name": "Python 3",
   "language": "python",
   "name": "python3"
  },
  "language_info": {
   "codemirror_mode": {
    "name": "ipython",
    "version": 3
   },
   "file_extension": ".py",
   "mimetype": "text/x-python",
   "name": "python",
   "nbconvert_exporter": "python",
   "pygments_lexer": "ipython3",
   "version": "3.5.4"
  }
 },
 "nbformat": 4,
 "nbformat_minor": 2
}
