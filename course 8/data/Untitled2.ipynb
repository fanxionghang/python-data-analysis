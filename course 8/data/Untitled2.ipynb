{
 "cells": [
  {
   "cell_type": "code",
   "execution_count": 6,
   "metadata": {},
   "outputs": [
    {
     "name": "stdout",
     "output_type": "stream",
     "text": [
      "/Users/qiangshen/desktop\r\n"
     ]
    }
   ],
   "source": [
    "from pandas import read_csv\n",
    "!pwd"
   ]
  },
  {
   "cell_type": "code",
   "execution_count": 8,
   "metadata": {},
   "outputs": [
    {
     "data": {
      "text/plain": [
       "array([['2012-02-15', 5899.9, 5923.8, 5880.6, 5892.2, 801550000, 5892.2],\n",
       "       ['2012-02-14', 5905.7, 5920.6, 5877.2, 5899.9, 832567200, 5899.9]], dtype=object)"
      ]
     },
     "execution_count": 8,
     "metadata": {},
     "output_type": "execute_result"
    }
   ],
   "source": [
    "csv_data=read_csv('import output/FTSE_1984_2012.csv')\n",
    "csv_data=csv_data.values\n",
    "csv_data[:2]"
   ]
  },
  {
   "cell_type": "code",
   "execution_count": 20,
   "metadata": {},
   "outputs": [
    {
     "data": {
      "text/plain": [
       "array([['2012-02-15', 5899.9, 5923.8, ..., 5892.2, 801550000, 5892.2],\n",
       "       ['2012-02-14', 5905.7, 5920.6, ..., 5899.9, 832567200, 5899.9],\n",
       "       ['2012-02-13', 5852.4, 5920.1, ..., 5905.7, 643543000, 5905.7],\n",
       "       ..., \n",
       "       ['1984-04-04', 1095.4, 1095.4, ..., 1095.4, 0, 1095.4],\n",
       "       ['1984-04-03', 1095.4, 1095.4, ..., 1095.4, 0, 1095.4],\n",
       "       ['1984-04-02', 1108.1, 1108.1, ..., 1108.1, 0, 1108.1]], dtype=object)"
      ]
     },
     "execution_count": 20,
     "metadata": {},
     "output_type": "execute_result"
    }
   ],
   "source": [
    "csv_data.values"
   ]
  },
  {
   "cell_type": "code",
   "execution_count": null,
   "metadata": {
    "collapsed": true
   },
   "outputs": [],
   "source": []
  }
 ],
 "metadata": {
  "kernelspec": {
   "display_name": "Python 3",
   "language": "python",
   "name": "python3"
  },
  "language_info": {
   "codemirror_mode": {
    "name": "ipython",
    "version": 3
   },
   "file_extension": ".py",
   "mimetype": "text/x-python",
   "name": "python",
   "nbconvert_exporter": "python",
   "pygments_lexer": "ipython3",
   "version": "3.5.4"
  }
 },
 "nbformat": 4,
 "nbformat_minor": 2
}
