{
 "cells": [
  {
   "cell_type": "markdown",
   "metadata": {},
   "source": [
    "### anaconda程序安装流程"
   ]
  },
  {
   "cell_type": "markdown",
   "metadata": {},
   "source": [
    "<hr>\n",
    "# Python安装和基础\n",
    "\n",
    "- 数据科学简介\n",
    "- python简介\n",
    "- python vs. R\n",
    "- **anaconda安装**\n",
    "- Jupyter简介\n",
    "- Unix bash命令基础\n",
    "- 基础工具箱简介"
   ]
  },
  {
   "cell_type": "markdown",
   "metadata": {},
   "source": [
    "### python安装\n",
    "\n",
    "- 本课程推荐使用anaconda\n",
    "- Spyder与R语言的集成开发环境[Rstudio](https://www.rstudio.com/)类似\n",
    "- anaconda vs. python\n",
    "- 第一：提供了包管理功能，Windows 平台安装第三方包经常失败的场景得以解决，\n",
    "- 第二：提供环境管理的功能，功能类似 Virtualenv，解决了多版本Python并存、切换的问题。\n",
    "\n",
    "- 官网Anaconda: https://www.continuum.io/downloads, Anaconda提供跨平台支持，有Windows版本,Mac版本和Linux版本。\n",
    "\n",
    "- 清华大学开源软件镜像站 https://mirrors.tuna.tsinghua.edu.cn/anaconda/archive/\n",
    "\n",
    "- The basic IPython client: at the terminal, simply type `ipython`:\n",
    "\n",
    "\n"
   ]
  },
  {
   "cell_type": "markdown",
   "metadata": {},
   "source": [
    "### 1. 从清华大学镜像安装anaconda3: python 3"
   ]
  },
  {
   "cell_type": "markdown",
   "metadata": {
    "collapsed": true
   },
   "source": [
    "https://mirrors.tuna.tsinghua.edu.cn/anaconda/archive/"
   ]
  },
  {
   "cell_type": "markdown",
   "metadata": {},
   "source": [
    "### 2. 设置清华大学镜像为安装包的默认镜像"
   ]
  },
  {
   "cell_type": "code",
   "execution_count": 2,
   "metadata": {
    "collapsed": true
   },
   "outputs": [
    {
     "name": "stderr",
     "output_type": "stream",
     "text": [
      "Warning: 'https://mirrors.tuna.tsinghua.edu.cn/anaconda/pkgs/free/' already in 'channels' list, moving to the top\n"
     ]
    }
   ],
   "source": [
    "! conda config --add channels https://mirrors.tuna.tsinghua.edu.cn/anaconda/pkgs/free/\n",
    "! conda config --set show_channel_urls yes\n",
    "##https://conda.io/docs/channels.html\n",
    "## ! conda config --set channel_priority false"
   ]
  },
  {
   "cell_type": "markdown",
   "metadata": {},
   "source": [
    "### 3. 使用命令行增加python 2"
   ]
  },
  {
   "cell_type": "code",
   "execution_count": 3,
   "metadata": {
    "collapsed": true
   },
   "outputs": [
    {
     "name": "stdout",
     "output_type": "stream",
     "text": [
      "Fetching package metadata .............\n"
     ]
    },
    {
     "name": "stderr",
     "output_type": "stream",
     "text": [
      "\n",
      "PackageNotFoundError: Packages missing in current channels:\n",
      "            \n",
      "  - py27\n",
      "\n",
      "We have searched for the packages in the following channels:\n",
      "            \n",
      "  - https://mirrors.tuna.tsinghua.edu.cn/anaconda/pkgs/free/win-64\n",
      "  - https://mirrors.tuna.tsinghua.edu.cn/anaconda/pkgs/free/noarch\n",
      "  - https://repo.continuum.io/pkgs/free/win-64\n",
      "  - https://repo.continuum.io/pkgs/free/noarch\n",
      "  - https://repo.continuum.io/pkgs/r/win-64\n",
      "  - https://repo.continuum.io/pkgs/r/noarch\n",
      "  - https://repo.continuum.io/pkgs/pro/win-64\n",
      "  - https://repo.continuum.io/pkgs/pro/noarch\n",
      "  - https://repo.continuum.io/pkgs/msys2/win-64\n",
      "  - https://repo.continuum.io/pkgs/msys2/noarch\n",
      "            \n",
      "\n"
     ]
    }
   ],
   "source": [
    "### 参考https://conda.io/docs/user-guide/tasks/manage-python.html\n",
    "! conda create -name py27 python=2.7 anaconda"
   ]
  },
  {
   "cell_type": "markdown",
   "metadata": {
    "collapsed": true
   },
   "source": [
    "### 4. 查看已经安装好的python环境\n"
   ]
  },
  {
   "cell_type": "code",
   "execution_count": 4,
   "metadata": {},
   "outputs": [
    {
     "name": "stdout",
     "output_type": "stream",
     "text": [
      "# conda environments:\n",
      "#\n",
      "py27                     C:\\Users\\shenqiang\\Anaconda3\\envs\\py27\n",
      "root                  *  C:\\Users\\shenqiang\\Anaconda3\n",
      "\n",
      "# conda environments:\n",
      "#\n",
      "py27                     C:\\Users\\shenqiang\\Anaconda3\\envs\\py27\n",
      "root                  *  C:\\Users\\shenqiang\\Anaconda3\n",
      "\n",
      "$CONDA_DEFAULT_ENV\n"
     ]
    }
   ],
   "source": [
    "! conda info -e\n",
    "! conda env list\n",
    "!echo $CONDA_DEFAULT_ENV\n",
    "# To activate this environment, use:\n",
    "# > source activate py27\n",
    "#\n",
    "# To deactivate this environment, use:\n",
    "# > source deactivate py27"
   ]
  },
  {
   "cell_type": "markdown",
   "metadata": {},
   "source": [
    "### 5.查看已经安装好的python环境和包"
   ]
  },
  {
   "cell_type": "code",
   "execution_count": null,
   "metadata": {
    "collapsed": true
   },
   "outputs": [
    {
     "name": "stdout",
     "output_type": "stream",
     "text": [
      "# packages in environment at C:\\Users\\shenqiang\\Anaconda3:\n",
      "#\n",
      "_license                  1.1                      py36_1    defaults\n",
      "alabaster                 0.7.10                   py36_0    defaults\n",
      "anaconda                  custom                   py36_0    https://mirrors.tuna.tsinghua.edu.cn/anaconda/pkgs/free\n",
      "anaconda-client           1.6.3                    py36_0    defaults\n",
      "anaconda-navigator        1.6.2                    py36_0    defaults\n",
      "anaconda-project          0.6.0                    py36_0    defaults\n",
      "asn1crypto                0.22.0                   py36_0    defaults\n",
      "astroid                   1.4.9                    py36_0    defaults\n",
      "astropy                   1.3.2               np112py36_0    defaults\n",
      "babel                     2.4.0                    py36_0    defaults\n",
      "backports                 1.0                      py36_0    defaults\n",
      "beautifulsoup4            4.6.0                    py36_0    defaults\n",
      "bitarray                  0.8.1                    py36_1    defaults\n",
      "blaze                     0.10.1                   py36_0    defaults\n",
      "bleach                    1.5.0                    py36_0    defaults\n",
      "bokeh                     0.12.5                   py36_1    defaults\n",
      "boto                      2.46.1                   py36_0    defaults\n",
      "bottleneck                1.2.1               np112py36_0    defaults\n",
      "bzip2                     1.0.6                    vc14_3  [vc14]  defaults\n",
      "cffi                      1.10.0                   py36_0    defaults\n",
      "chardet                   3.0.3                    py36_0    defaults\n",
      "click                     6.7                      py36_0    defaults\n",
      "cloudpickle               0.2.2                    py36_0    defaults\n",
      "clyent                    1.2.2                    py36_0    defaults\n",
      "colorama                  0.3.9                    py36_0    defaults\n",
      "comtypes                  1.1.2                    py36_0    defaults\n",
      "conda                     4.3.25                   py36_0    https://mirrors.tuna.tsinghua.edu.cn/anaconda/pkgs/free\n",
      "conda-env                 2.6.0                         0    https://mirrors.tuna.tsinghua.edu.cn/anaconda/pkgs/free\n",
      "console_shortcut          0.1.1                    py36_1    defaults\n",
      "contextlib2               0.5.5                    py36_0    defaults\n",
      "cryptography              1.8.1                    py36_0    defaults\n",
      "curl                      7.52.1                   vc14_0  [vc14]  defaults\n",
      "cycler                    0.10.0                   py36_0    defaults\n",
      "cython                    0.25.2                   py36_0    defaults\n",
      "cytoolz                   0.8.2                    py36_0    defaults\n",
      "dask                      0.14.3                   py36_1    defaults\n",
      "datashape                 0.5.4                    py36_0    defaults\n",
      "decorator                 4.0.11                   py36_0    defaults\n",
      "distributed               1.16.3                   py36_0    defaults\n",
      "docutils                  0.13.1                   py36_0    defaults\n",
      "entrypoints               0.2.2                    py36_1    defaults\n",
      "et_xmlfile                1.0.1                    py36_0    defaults\n",
      "fastcache                 1.0.2                    py36_1    defaults\n",
      "flask                     0.12.2                   py36_0    defaults\n",
      "flask-cors                3.0.2                    py36_0    defaults\n",
      "freetype                  2.5.5                    vc14_2  [vc14]  defaults\n",
      "get_terminal_size         1.0.0                    py36_0    defaults\n",
      "gevent                    1.2.1                    py36_0    defaults\n",
      "greenlet                  0.4.12                   py36_0    defaults\n",
      "h5py                      2.7.0               np112py36_0    defaults\n",
      "hdf5                      1.8.15.1                 vc14_4  [vc14]  defaults\n",
      "heapdict                  1.0.0                    py36_1    defaults\n",
      "html5lib                  0.999                    py36_0    defaults\n",
      "icu                       57.1                     vc14_0  [vc14]  defaults\n",
      "idna                      2.5                      py36_0    defaults\n",
      "imagesize                 0.7.1                    py36_0    defaults\n",
      "ipykernel                 4.6.1                    py36_0    defaults\n",
      "ipython                   5.3.0                    py36_0    defaults\n",
      "ipython_genutils          0.2.0                    py36_0    defaults\n",
      "ipywidgets                6.0.0                    py36_0    defaults\n",
      "isort                     4.2.5                    py36_0    defaults\n",
      "itsdangerous              0.24                     py36_0    defaults\n",
      "jdcal                     1.3                      py36_0    defaults\n",
      "jedi                      0.10.2                   py36_2    defaults\n",
      "jinja2                    2.9.6                    py36_0    defaults\n",
      "jpeg                      9b                       vc14_0  [vc14]  defaults\n",
      "jsonschema                2.6.0                    py36_0    defaults\n",
      "jupyter                   1.0.0                    py36_3    defaults\n",
      "jupyter_client            5.0.1                    py36_0    defaults\n",
      "jupyter_console           5.1.0                    py36_0    defaults\n",
      "jupyter_core              4.3.0                    py36_0    defaults\n",
      "lazy-object-proxy         1.2.2                    py36_0    defaults\n",
      "libpng                    1.6.27                   vc14_0  [vc14]  defaults\n",
      "libtiff                   4.0.6                    vc14_3  [vc14]  defaults\n",
      "llvmlite                  0.18.0                   py36_0    defaults\n",
      "locket                    0.2.0                    py36_1    defaults\n",
      "lxml                      3.8.0                    py36_0    https://mirrors.tuna.tsinghua.edu.cn/anaconda/pkgs/free\n",
      "m2w64-bwidget             1.9.10                        2    defaults\n",
      "m2w64-bzip2               1.0.6                         6    defaults\n",
      "m2w64-c-ares              1.11.0                        2    defaults\n",
      "m2w64-ca-certificates     20150426                    103    defaults\n",
      "m2w64-curl                7.48.0                        2    defaults\n",
      "m2w64-expat               2.1.1                         2    defaults\n",
      "m2w64-fftw                3.3.4                         6    defaults\n",
      "m2w64-flac                1.3.1                         3    defaults\n",
      "m2w64-gcc-libgfortran     5.3.0                         6    defaults\n",
      "m2w64-gcc-libs            5.3.0                         7    defaults\n",
      "m2w64-gcc-libs-core       5.3.0                         7    defaults\n",
      "m2w64-gettext             0.19.7                        2    defaults\n",
      "m2w64-gmp                 6.1.0                         2    defaults\n",
      "m2w64-gnutls              3.4.11                        2    defaults\n",
      "m2w64-gsl                 2.1                           2    defaults\n",
      "m2w64-jansson             2.7                           3    defaults\n",
      "m2w64-libffi              3.2.1                         4    defaults\n",
      "m2w64-libiconv            1.14                          6    defaults\n",
      "m2w64-libidn              1.32                          4    defaults\n",
      "m2w64-libjpeg-turbo       1.4.2                         3    defaults\n",
      "m2w64-libmetalink         0.1.3                         2    defaults\n",
      "m2w64-libogg              1.3.2                         3    defaults\n",
      "m2w64-libpng              1.6.21                        2    defaults\n",
      "m2w64-libsndfile          1.0.26                        2    defaults\n",
      "m2w64-libssh2             1.7.0                         2    defaults\n",
      "m2w64-libsystre           1.0.1                         3    defaults\n",
      "m2w64-libtasn1            4.7                           2    defaults\n",
      "m2w64-libtiff             4.0.6                         2    defaults\n",
      "m2w64-libtre-git          122.c2f5d13                   5    defaults\n",
      "m2w64-libvorbis           1.3.5                         2    defaults\n",
      "m2w64-libwinpthread-git   5.0.0.4634.697f757               2    defaults\n",
      "m2w64-libxml2             2.9.3                         3    defaults\n",
      "m2w64-mpfr                3.1.4                         4    defaults\n",
      "m2w64-nettle              3.1.1                         4    defaults\n",
      "m2w64-nghttp2             1.9.2                         2    defaults\n",
      "m2w64-nlopt               2.4.2                         3    defaults\n",
      "m2w64-openssl             1.0.2.g                       2    defaults\n",
      "m2w64-p11-kit             0.23.2                        2    defaults\n",
      "m2w64-pcre                8.38                          2    defaults\n",
      "m2w64-rtmpdump-git        499.a107cef                   4    defaults\n",
      "m2w64-speex               1.2rc2                        3    defaults\n",
      "m2w64-speexdsp            1.2rc3                        3    defaults\n",
      "m2w64-tcl                 8.6.5                         3    defaults\n",
      "m2w64-tk                  8.6.5                         3    defaults\n",
      "m2w64-tktable             2.10                          5    defaults\n",
      "m2w64-wineditline         2.101                         5    defaults\n",
      "m2w64-xz                  5.2.2                         2    defaults\n",
      "m2w64-zlib                1.2.8                        10    defaults\n",
      "markupsafe                0.23                     py36_2    defaults\n",
      "matplotlib                2.0.2               np112py36_0    defaults\n",
      "menuinst                  1.4.7                    py36_0    defaults\n",
      "mistune                   0.7.4                    py36_0    defaults\n",
      "mkl                       2017.0.1                      0    defaults\n",
      "mkl-service               1.1.2                    py36_3    defaults\n",
      "mpmath                    0.19                     py36_1    defaults\n",
      "msgpack-python            0.4.8                    py36_0    defaults\n",
      "msys2-conda-epoch         20160418                      1    defaults\n",
      "multipledispatch          0.4.9                    py36_0    defaults\n",
      "navigator-updater         0.1.0                    py36_0    defaults\n",
      "nbconvert                 5.1.1                    py36_0    defaults\n",
      "nbformat                  4.3.0                    py36_0    defaults\n",
      "networkx                  1.11                     py36_0    defaults\n",
      "nltk                      3.2.3                    py36_0    defaults\n",
      "nose                      1.3.7                    py36_1    defaults\n",
      "notebook                  5.0.0                    py36_0    defaults\n",
      "numba                     0.33.0              np112py36_0    defaults\n",
      "numexpr                   2.6.2               np112py36_0    defaults\n",
      "numpy                     1.12.1                   py36_0    defaults\n",
      "numpydoc                  0.6.0                    py36_0    defaults\n",
      "odo                       0.5.0                    py36_1    defaults\n",
      "olefile                   0.44                     py36_0    defaults\n",
      "openpyxl                  2.4.7                    py36_0    defaults\n",
      "openssl                   1.0.2l                   vc14_0  [vc14]  defaults\n",
      "packaging                 16.8                     py36_0    defaults\n",
      "pandas                    0.20.1              np112py36_0    defaults\n",
      "pandoc                    1.19.2.1                      1    https://mirrors.tuna.tsinghua.edu.cn/anaconda/pkgs/free\n",
      "pandocfilters             1.4.1                    py36_0    defaults\n",
      "partd                     0.3.8                    py36_0    defaults\n",
      "path.py                   10.3.1                   py36_0    defaults\n",
      "pathlib2                  2.2.1                    py36_0    defaults\n",
      "patsy                     0.4.1                    py36_0    defaults\n",
      "pep8                      1.7.0                    py36_0    defaults\n",
      "pickleshare               0.7.4                    py36_0    defaults\n",
      "pillow                    4.1.1                    py36_0    defaults\n",
      "pip                       9.0.1                    py36_1    defaults\n",
      "ply                       3.10                     py36_0    defaults\n",
      "prompt_toolkit            1.0.14                   py36_0    defaults\n",
      "psutil                    5.2.2                    py36_0    defaults\n",
      "py                        1.4.33                   py36_0    defaults\n",
      "pycosat                   0.6.2                    py36_0    defaults\n",
      "pycparser                 2.17                     py36_0    defaults\n",
      "pycrypto                  2.6.1                    py36_6    defaults\n",
      "pycurl                    7.43.0                   py36_2    defaults\n",
      "pyflakes                  1.5.0                    py36_0    defaults\n",
      "pygments                  2.2.0                    py36_0    defaults\n",
      "pylint                    1.6.4                    py36_1    defaults\n",
      "pyodbc                    4.0.16                   py36_0    defaults\n",
      "pyopenssl                 17.0.0                   py36_0    defaults\n",
      "pyparsing                 2.1.4                    py36_0    defaults\n",
      "pyqt                      5.6.0                    py36_2    defaults\n",
      "pytables                  3.2.2               np112py36_4    defaults\n",
      "pytest                    3.0.7                    py36_0    defaults\n",
      "python                    3.6.1                         2    defaults\n",
      "python-dateutil           2.6.0                    py36_0    defaults\n",
      "pytz                      2017.2                   py36_0    defaults\n",
      "pywavelets                0.5.2               np112py36_0    defaults\n",
      "pywin32                   220                      py36_2    defaults\n",
      "pyyaml                    3.12                     py36_0    defaults\n",
      "pyzmq                     16.0.2                   py36_0    defaults\n",
      "qt                        5.6.2                    vc14_4  [vc14]  defaults\n",
      "qtawesome                 0.4.4                    py36_0    defaults\n",
      "qtconsole                 4.3.0                    py36_0    defaults\n",
      "qtpy                      1.2.1                    py36_0    defaults\n",
      "r-assertthat              0.2.0                  r3.4.1_0    defaults\n",
      "r-backports               1.1.0                  r3.4.1_0    defaults\n",
      "r-base                    3.4.1                         0    defaults\n",
      "r-base64enc               0.1_3                  r3.4.1_0    defaults\n",
      "r-bh                      1.62.0_1               r3.4.1_0    defaults\n",
      "r-bindr                   0.1                    r3.4.1_0    defaults\n",
      "r-bindrcpp                0.2                    r3.4.1_0    defaults\n",
      "r-bitops                  1.0_6                  r3.4.1_2    defaults\n",
      "r-boot                    1.3_19                 r3.4.1_0    defaults\n",
      "r-broom                   0.4.2                  r3.4.1_0    defaults\n",
      "r-car                     2.1_4                  r3.4.1_0    defaults\n",
      "r-caret                   6.0_76                 r3.4.1_0    defaults\n",
      "r-catools                 1.17.1                 r3.4.1_2    defaults\n",
      "r-cellranger              1.1.0                  r3.4.1_0    defaults\n",
      "r-class                   7.3_14                 r3.4.1_0    defaults\n",
      "r-cluster                 2.0.6                  r3.4.1_0    defaults\n",
      "r-codetools               0.2_15                 r3.4.1_0    defaults\n",
      "r-colorspace              1.3_2                  r3.4.1_0    defaults\n",
      "r-crayon                  1.3.2                  r3.4.1_0    defaults\n",
      "r-curl                    2.6                    r3.4.1_0    defaults\n",
      "r-data.table              1.10.4                 r3.4.1_0    defaults\n",
      "r-dbi                     0.6_1                  r3.4.1_0    defaults\n",
      "r-dichromat               2.0_0                  r3.4.1_2    defaults\n",
      "r-digest                  0.6.12                 r3.4.1_0    defaults\n",
      "r-dplyr                   0.7.0                  r3.4.1_0    defaults\n",
      "r-essentials              1.6.0                  r3.4.1_0    defaults\n",
      "r-evaluate                0.10                   r3.4.1_0    defaults\n",
      "r-forcats                 0.2.0                  r3.4.1_0    defaults\n",
      "r-foreach                 1.4.3                  r3.4.1_0    defaults\n",
      "r-foreign                 0.8_68                 r3.4.1_0    defaults\n",
      "r-formatr                 1.5                    r3.4.1_0    defaults\n",
      "r-ggplot2                 2.2.1                  r3.4.1_0    defaults\n",
      "r-gistr                   0.4.0                  r3.4.1_0    defaults\n",
      "r-glmnet                  2.0_10                 r3.4.1_0    defaults\n",
      "r-glue                    1.1.1                  r3.4.1_0    defaults\n",
      "r-gtable                  0.2.0                  r3.4.1_0    defaults\n",
      "r-haven                   1.0.0                  r3.4.1_0    defaults\n",
      "r-hexbin                  1.27.1                 r3.4.1_0    defaults\n",
      "r-highr                   0.6                    r3.4.1_0    defaults\n",
      "r-hms                     0.3                    r3.4.1_0    defaults\n",
      "r-htmltools               0.3.6                  r3.4.1_0    defaults\n",
      "r-htmlwidgets             0.8                    r3.4.1_1    defaults\n",
      "r-httpuv                  1.3.3                  r3.4.1_0    defaults\n",
      "r-httr                    1.2.1                  r3.4.1_0    defaults\n",
      "r-irdisplay               0.4.4                  r3.4.1_0    defaults\n",
      "r-irkernel                0.7.1                  r3.4.1_0    defaults\n",
      "r-iterators               1.0.8                  r3.4.1_0    defaults\n",
      "r-jsonlite                1.5                    r3.4.1_0    defaults\n",
      "r-kernsmooth              2.23_15                r3.4.1_0    defaults\n",
      "r-knitr                   1.16                   r3.4.1_0    defaults\n",
      "r-labeling                0.3                    r3.4.1_2    defaults\n",
      "r-lattice                 0.20_35                r3.4.1_0    defaults\n",
      "r-lazyeval                0.2.0                  r3.4.1_0    defaults\n",
      "r-lme4                    1.1_13                 r3.4.1_0    defaults\n",
      "r-lubridate               1.6.0                  r3.4.1_0    defaults\n",
      "r-magrittr                1.5                    r3.4.1_2    defaults\n",
      "r-maps                    3.2.0                  r3.4.1_0    defaults\n",
      "r-markdown                0.8                    r3.4.1_0    defaults\n",
      "r-mass                    7.3_47                 r3.4.1_0    defaults\n",
      "r-matrix                  1.2_10                 r3.4.1_0    defaults\n",
      "r-matrixmodels            0.4_1                  r3.4.1_0    defaults\n",
      "r-mgcv                    1.8_17                 r3.4.1_0    defaults\n",
      "r-mime                    0.5                    r3.4.1_0    defaults\n",
      "r-minqa                   1.2.4                  r3.4.1_2    defaults\n",
      "r-mnormt                  1.5_5                  r3.4.1_0    defaults\n",
      "r-modelmetrics            1.1.0                  r3.4.1_0    defaults\n",
      "r-modelr                  0.1.0                  r3.4.1_0    defaults\n",
      "r-munsell                 0.4.3                  r3.4.1_0    defaults\n",
      "r-nlme                    3.1_131                r3.4.1_0    defaults\n",
      "r-nloptr                  1.0.4                  r3.4.1_2    defaults\n",
      "r-nnet                    7.3_12                 r3.4.1_0    defaults\n",
      "r-openssl                 0.9.6                  r3.4.1_0    defaults\n",
      "r-pbdzmq                  0.2_6                  r3.4.1_0    defaults\n",
      "r-pbkrtest                0.4_7                  r3.4.1_0    defaults\n",
      "r-pkgconfig               2.0.1                  r3.4.1_0    defaults\n",
      "r-plogr                   0.1_1                  r3.4.1_0    defaults\n",
      "r-plyr                    1.8.4                  r3.4.1_0    defaults\n",
      "r-pryr                    0.1.2                  r3.4.1_0    defaults\n",
      "r-psych                   1.7.5                  r3.4.1_0    defaults\n",
      "r-purrr                   0.2.2.2                r3.4.1_0    defaults\n",
      "r-quantmod                0.4_9                  r3.4.1_0    defaults\n",
      "r-quantreg                5.33                   r3.4.1_0    defaults\n",
      "r-r6                      2.2.1                  r3.4.1_0    defaults\n",
      "r-randomforest            4.6_12                 r3.4.1_0    defaults\n",
      "r-rbokeh                  0.5.0                  r3.4.1_0    defaults\n",
      "r-rcolorbrewer            1.1_2                  r3.4.1_3    defaults\n",
      "r-rcpp                    0.12.11                r3.4.1_0    defaults\n",
      "r-rcppeigen               0.3.3.3.0              r3.4.1_0    defaults\n",
      "r-readr                   1.1.1                  r3.4.1_0    defaults\n",
      "r-readxl                  1.0.0                  r3.4.1_0    defaults\n",
      "r-recommended             3.4.1                  r3.4.1_0    defaults\n",
      "r-rematch                 1.0.1                  r3.4.1_0    defaults\n",
      "r-repr                    0.10                   r3.4.1_0    defaults\n",
      "r-reshape2                1.4.2                  r3.4.1_0    defaults\n",
      "r-rlang                   0.1.1                  r3.4.1_0    defaults\n",
      "r-rmarkdown               1.5                    r3.4.1_0    defaults\n",
      "r-rpart                   4.1_11                 r3.4.1_0    defaults\n",
      "r-rprojroot               1.2                    r3.4.1_0    defaults\n",
      "r-rvest                   0.3.2                  r3.4.1_0    defaults\n",
      "r-scales                  0.4.1                  r3.4.1_0    defaults\n",
      "r-selectr                 0.3_1                  r3.4.1_0    defaults\n",
      "r-shiny                   1.0.3                  r3.4.1_0    defaults\n",
      "r-sourcetools             0.1.6                  r3.4.1_0    defaults\n",
      "r-sparsem                 1.77                   r3.4.1_0    defaults\n",
      "r-spatial                 7.3_11                 r3.4.1_0    defaults\n",
      "r-stringi                 1.1.5                  r3.4.1_0    defaults\n",
      "r-stringr                 1.2.0                  r3.4.1_0    defaults\n",
      "r-survival                2.41_3                 r3.4.1_0    defaults\n",
      "r-tibble                  1.3.3                  r3.4.1_0    defaults\n",
      "r-tidyr                   0.6.3                  r3.4.1_0    defaults\n",
      "r-tidyverse               1.1.1                  r3.4.1_0    defaults\n",
      "r-ttr                     0.23_1                 r3.4.1_0    defaults\n",
      "r-uuid                    0.1_2                  r3.4.1_0    defaults\n",
      "r-xml2                    1.1.1                  r3.4.1_0    defaults\n",
      "r-xtable                  1.8_2                  r3.4.1_0    defaults\n",
      "r-xts                     0.9_7                  r3.4.1_2    defaults\n",
      "r-yaml                    2.1.14                 r3.4.1_0    defaults\n",
      "r-zoo                     1.8_0                  r3.4.1_0    defaults\n",
      "requests                  2.14.2                   py36_0    defaults\n",
      "rope                      0.9.4                    py36_1    defaults\n",
      "ruamel_yaml               0.11.14                  py36_1    defaults\n",
      "scikit-image              0.13.0              np112py36_0    defaults\n",
      "scikit-learn              0.18.1              np112py36_1    defaults\n",
      "scipy                     0.19.0              np112py36_0    defaults\n",
      "seaborn                   0.7.1                    py36_0    defaults\n",
      "setuptools                27.2.0                   py36_1    defaults\n",
      "simplegeneric             0.8.1                    py36_1    defaults\n",
      "singledispatch            3.4.0.3                  py36_0    defaults\n",
      "sip                       4.18                     py36_0    defaults\n",
      "six                       1.10.0                   py36_0    defaults\n",
      "snowballstemmer           1.2.1                    py36_0    defaults\n",
      "sortedcollections         0.5.3                    py36_0    defaults\n",
      "sortedcontainers          1.5.7                    py36_0    defaults\n",
      "sphinx                    1.5.6                    py36_0    defaults\n",
      "spyder                    3.1.4                    py36_0    defaults\n",
      "sqlalchemy                1.1.9                    py36_0    defaults\n",
      "statsmodels               0.8.0               np112py36_0    defaults\n",
      "sympy                     1.0                      py36_0    defaults\n",
      "tblib                     1.3.2                    py36_0    defaults\n",
      "testpath                  0.3                      py36_0    defaults\n",
      "tk                        8.5.18                   vc14_0  [vc14]  defaults\n",
      "toolz                     0.8.2                    py36_0    defaults\n",
      "tornado                   4.5.1                    py36_0    defaults\n",
      "traitlets                 4.3.2                    py36_0    defaults\n",
      "unicodecsv                0.14.1                   py36_0    defaults\n",
      "vs2015_runtime            14.0.25123                    0    defaults\n",
      "wcwidth                   0.1.7                    py36_0    defaults\n",
      "werkzeug                  0.12.2                   py36_0    defaults\n",
      "wheel                     0.29.0                   py36_0    defaults\n",
      "widgetsnbextension        2.0.0                    py36_0    defaults\n",
      "win_unicode_console       0.5                      py36_0    defaults\n",
      "wrapt                     1.10.10                  py36_0    defaults\n",
      "xlrd                      1.0.0                    py36_0    defaults\n",
      "xlsxwriter                0.9.6                    py36_0    defaults\n",
      "xlwings                   0.10.4                   py36_0    defaults\n",
      "xlwt                      1.2.0                    py36_0    defaults\n",
      "zict                      0.1.2                    py36_0    defaults\n",
      "zlib                      1.2.8                    vc14_3  [vc14]  defaults\n"
     ]
    },
    {
     "name": "stdout",
     "output_type": "stream",
     "text": [
      "# packages in environment at C:\\Users\\shenqiang\\Anaconda3\\envs\\py27:\n",
      "#\n",
      "backports                 1.0                      py27_0    https://mirrors.tuna.tsinghua.edu.cn/anaconda/pkgs/free\n",
      "backports_abc             0.5                      py27_0    https://mirrors.tuna.tsinghua.edu.cn/anaconda/pkgs/free\n",
      "colorama                  0.3.9                    py27_0    https://mirrors.tuna.tsinghua.edu.cn/anaconda/pkgs/free\n",
      "decorator                 4.1.2                    py27_0    https://mirrors.tuna.tsinghua.edu.cn/anaconda/pkgs/free\n",
      "enum34                    1.1.6                    py27_0    https://mirrors.tuna.tsinghua.edu.cn/anaconda/pkgs/free\n",
      "get_terminal_size         1.0.0                    py27_0    https://mirrors.tuna.tsinghua.edu.cn/anaconda/pkgs/free\n",
      "ipykernel                 4.6.1                    py27_0    https://mirrors.tuna.tsinghua.edu.cn/anaconda/pkgs/free\n",
      "ipython                   5.3.0                    py27_0    https://mirrors.tuna.tsinghua.edu.cn/anaconda/pkgs/free\n",
      "ipython_genutils          0.2.0                    py27_0    https://mirrors.tuna.tsinghua.edu.cn/anaconda/pkgs/free\n",
      "jupyter_client            5.1.0                    py27_0    https://mirrors.tuna.tsinghua.edu.cn/anaconda/pkgs/free\n",
      "jupyter_core              4.3.0                    py27_0    https://mirrors.tuna.tsinghua.edu.cn/anaconda/pkgs/free\n",
      "path.py                   10.3.1                   py27_0    https://mirrors.tuna.tsinghua.edu.cn/anaconda/pkgs/free\n",
      "pathlib2                  2.3.0                    py27_0    https://mirrors.tuna.tsinghua.edu.cn/anaconda/pkgs/free\n",
      "pickleshare               0.7.4                    py27_0    https://mirrors.tuna.tsinghua.edu.cn/anaconda/pkgs/free\n",
      "pip                       9.0.1                    py27_1    https://mirrors.tuna.tsinghua.edu.cn/anaconda/pkgs/free\n",
      "prompt_toolkit            1.0.15                   py27_0    https://mirrors.tuna.tsinghua.edu.cn/anaconda/pkgs/free\n",
      "pygments                  2.2.0                    py27_0    https://mirrors.tuna.tsinghua.edu.cn/anaconda/pkgs/free\n",
      "python                    2.7.13                        1    https://mirrors.tuna.tsinghua.edu.cn/anaconda/pkgs/free\n",
      "python-dateutil           2.6.1                    py27_0    https://mirrors.tuna.tsinghua.edu.cn/anaconda/pkgs/free\n",
      "pyzmq                     16.0.2                   py27_0    https://mirrors.tuna.tsinghua.edu.cn/anaconda/pkgs/free\n",
      "scandir                   1.5                      py27_0    https://mirrors.tuna.tsinghua.edu.cn/anaconda/pkgs/free\n",
      "setuptools                27.2.0                   py27_1    https://mirrors.tuna.tsinghua.edu.cn/anaconda/pkgs/free\n",
      "simplegeneric             0.8.1                    py27_1    https://mirrors.tuna.tsinghua.edu.cn/anaconda/pkgs/free\n",
      "singledispatch            3.4.0.3                  py27_0    https://mirrors.tuna.tsinghua.edu.cn/anaconda/pkgs/free\n",
      "six                       1.10.0                   py27_0    https://mirrors.tuna.tsinghua.edu.cn/anaconda/pkgs/free\n",
      "ssl_match_hostname        3.5.0.1                  py27_0    https://mirrors.tuna.tsinghua.edu.cn/anaconda/pkgs/free\n",
      "tornado                   4.5.2                    py27_0    https://mirrors.tuna.tsinghua.edu.cn/anaconda/pkgs/free\n",
      "traitlets                 4.3.2                    py27_0    https://mirrors.tuna.tsinghua.edu.cn/anaconda/pkgs/free\n",
      "vs2008_runtime            9.00.30729.5054               0    https://mirrors.tuna.tsinghua.edu.cn/anaconda/pkgs/free\n",
      "wcwidth                   0.1.7                    py27_0    https://mirrors.tuna.tsinghua.edu.cn/anaconda/pkgs/free\n",
      "wheel                     0.29.0                   py27_0    https://mirrors.tuna.tsinghua.edu.cn/anaconda/pkgs/free\n",
      "win_unicode_console       0.5                      py27_0    https://mirrors.tuna.tsinghua.edu.cn/anaconda/pkgs/free\n"
     ]
    }
   ],
   "source": [
    "! conda list\n",
    "! conda list -n py27"
   ]
  },
  {
   "cell_type": "markdown",
   "metadata": {},
   "source": [
    "### 打开jupyter notebook"
   ]
  },
  {
   "cell_type": "code",
   "execution_count": null,
   "metadata": {
    "collapsed": true
   },
   "outputs": [],
   "source": [
    "###anaconda launcher\n",
    "! jupyter notebook"
   ]
  },
  {
   "cell_type": "markdown",
   "metadata": {},
   "source": [
    "### 6. 安装jupyter notebook的python 2内核"
   ]
  },
  {
   "cell_type": "code",
   "execution_count": null,
   "metadata": {
    "collapsed": true
   },
   "outputs": [],
   "source": [
    "###安装python 2 kernal\n",
    "! conda install -n py27 ipykernel\n",
    "! source activate py27 ## Windows系统下Power shell不能激活，需要使用cmd.\n",
    "! python -m ipykernel install --user"
   ]
  },
  {
   "cell_type": "markdown",
   "metadata": {
    "collapsed": true
   },
   "source": [
    "### success!!!"
   ]
  },
  {
   "cell_type": "markdown",
   "metadata": {
    "collapsed": true
   },
   "source": [
    " ### bonus"
   ]
  },
  {
   "cell_type": "markdown",
   "metadata": {},
   "source": [
    "### 移除安装环境"
   ]
  },
  {
   "cell_type": "code",
   "execution_count": null,
   "metadata": {
    "collapsed": true
   },
   "outputs": [],
   "source": [
    "! conda remove --name myenv --all"
   ]
  },
  {
   "cell_type": "markdown",
   "metadata": {},
   "source": [
    "### 在anaconda下安装、移除和更新安装包"
   ]
  },
  {
   "cell_type": "code",
   "execution_count": null,
   "metadata": {
    "collapsed": true
   },
   "outputs": [],
   "source": [
    "! conda install xlrd \n",
    "! conda install -n py27 xlrd"
   ]
  },
  {
   "cell_type": "code",
   "execution_count": null,
   "metadata": {
    "collapsed": true
   },
   "outputs": [],
   "source": [
    "! conda remove xlrd\n",
    "! conda remove -n py27 xlrd"
   ]
  },
  {
   "cell_type": "code",
   "execution_count": null,
   "metadata": {
    "collapsed": true
   },
   "outputs": [],
   "source": [
    "###To update a specific package:\n",
    "! conda update biopython\n",
    "\n",
    "###To update Python:    \n",
    "! conda update python\n",
    "\n",
    "### To update conda itself:\n",
    "!conda update conda"
   ]
  },
  {
   "cell_type": "markdown",
   "metadata": {},
   "source": [
    "手动安装包\n",
    "\n",
    "1. 下载需要的安装包。\n",
    "2. 打开你要安装的安装包，里面会用setup.py，在terminal下利用cd命令调整到当前路径，然后使用\n",
    "   python setup.py进行安装就可以了。"
   ]
  },
  {
   "cell_type": "markdown",
   "metadata": {},
   "source": [
    "Reference:\n",
    "- https://conda.io/docs/user-guide/tasks/manage-pkgs.html\n",
    "- https://jakevdp.github.io/blog/2016/08/25/conda-myths-and-misconceptions/\n",
    "- https://andersc.gitbooks.io/ipython-interactive-computing-visualization/content/1.1.intro_to_anaconda.html\n",
    "- https://foofish.net/anaconda-install.html (conda/pip安装包镜像设置)"
   ]
  },
  {
   "cell_type": "markdown",
   "metadata": {},
   "source": [
    "#### Notes:\n",
    "    \n",
    "1. 上课教室：2-16周下午8-9节，博易楼404机房。\n",
    "2. 实验室提供电脑进行上机练习，但鼓励同学们自己带电脑上课，如果是Windows电脑，建议安装一个Linux的虚拟机或者双系统。\n",
    "3. 在电脑上完成anaconda python 3和python 2（可选）的安装，感兴趣者可以尝试R的安装，实现Jupyter多核之间的自由切换。\n",
    "4. 鼓励学生探索python课程相关的知识，如有与上课课程密切相关有趣心得，鼓励上课时与同学分享（需提前email跟老师沟通预约）。\n",
    "5. 课程作业需要独立完成，鼓励同学之间相互讨论、交流，但是作业不能抄袭，否则一经发现，相应作业直接0分处理。"
   ]
  }
 ],
 "metadata": {
  "kernelspec": {
   "display_name": "Python 3",
   "language": "python",
   "name": "python3"
  },
  "language_info": {
   "codemirror_mode": {
    "name": "ipython",
    "version": 3
   },
   "file_extension": ".py",
   "mimetype": "text/x-python",
   "name": "python",
   "nbconvert_exporter": "python",
   "pygments_lexer": "ipython3",
   "version": "3.6.1"
  }
 },
 "nbformat": 4,
 "nbformat_minor": 2
}
